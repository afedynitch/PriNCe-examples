{
 "cells": [
  {
   "cell_type": "markdown",
   "metadata": {},
   "source": [
    "This notebook tests the integration methods for calculating interaction rates depending on grid size"
   ]
  },
  {
   "cell_type": "code",
   "execution_count": null,
   "metadata": {},
   "outputs": [],
   "source": [
    "%load_ext autoreload\n",
    "%autoreload 2\n",
    "import numpy as np\n",
    "import matplotlib.pyplot as plt\n",
    "%matplotlib inline"
   ]
  },
  {
   "cell_type": "markdown",
   "metadata": {},
   "source": [
    "# Photon fields"
   ]
  },
  {
   "cell_type": "code",
   "execution_count": null,
   "metadata": {},
   "outputs": [],
   "source": [
    "%%time\n",
    "\n",
    "from prince import photonfields\n",
    "ph_CMB = photonfields.CMBPhotonSpectrum()\n",
    "ph_CIB = photonfields.CIBFranceschini2D()\n",
    "ph_CIB_simple = photonfields.CIBFranceschini2D(simple_scaling=True)\n",
    "ph_combined = photonfields.CombinedPhotonField([photonfields.CMBPhotonSpectrum,photonfields.CIBFranceschini2D])\n",
    "\n",
    "ph_field = ph_CMB.get_photon_density"
   ]
  },
  {
   "cell_type": "markdown",
   "metadata": {},
   "source": [
    "# Interaction rate reference test"
   ]
  },
  {
   "cell_type": "code",
   "execution_count": null,
   "metadata": {},
   "outputs": [],
   "source": [
    "from prince import cross_sections\n",
    "from prince.data import EnergyGrid\n",
    "\n",
    "cross_sec = cross_sections.CompositeCrossSection(\n",
    "    [(0., cross_sections.TabulatedCrossSection, ('CRP2_TALYS',)),\n",
    "     (0.14, cross_sections.SophiaSuperposition, ())])\n",
    "\n",
    "nonel_intp = cross_sec.resp.nonel_intp[101]\n",
    "incl_intp = cross_sec.resp.incl_diff_intp[(101,101)]"
   ]
  },
  {
   "cell_type": "markdown",
   "metadata": {},
   "source": [
    "# Analyze interaction rate as a function of bins per decade"
   ]
  },
  {
   "cell_type": "code",
   "execution_count": null,
   "metadata": {},
   "outputs": [],
   "source": [
    "numbers = [8,16,32,256]#,256,1024]\n",
    "cr_energy_grids = [EnergyGrid(5, 14, bin_dec).grid for bin_dec in numbers]\n",
    "ph_energy_grids = [EnergyGrid(-15, -6, bin_dec).grid for bin_dec in numbers]\n",
    "\n",
    "cr_energy_bins = [EnergyGrid(5, 14, bin_dec).bins for bin_dec in numbers]\n",
    "ph_energy_bins = [EnergyGrid(-15, -6, bin_dec).bins for bin_dec in numbers]\n",
    "\n",
    "cr_energy_widths = [EnergyGrid(5, 14, bin_dec).widths for bin_dec in numbers]\n",
    "ph_energy_widths = [EnergyGrid(-15, -6, bin_dec).widths for bin_dec in numbers]\n",
    "\n",
    "labels = [str(num)+' bins per dec' for num in numbers]"
   ]
  },
  {
   "cell_type": "markdown",
   "metadata": {},
   "source": [
    "## Check response function f(y) grid dependence"
   ]
  },
  {
   "cell_type": "code",
   "execution_count": null,
   "metadata": {},
   "outputs": [],
   "source": [
    "cr_energy = 1e10\n",
    "\n",
    "resp_list = []\n",
    "resp_list_upscale = []\n",
    "\n",
    "grid_max = ph_energy_grids[-1]\n",
    "ygrid_max = ph_energy_grids[-1] * cr_energy\n",
    "for grid in ph_energy_grids:\n",
    "    ygrid = cr_energy * grid # to ygrid by multiplying with Ecr\n",
    "\n",
    "    function = nonel_intp(ygrid)\n",
    "    resp_list.append((grid, function))\n",
    "\n",
    "    function = np.interp(ygrid_max, ygrid, function)\n",
    "    resp_list_upscale.append((grid_max, function))"
   ]
  },
  {
   "cell_type": "code",
   "execution_count": null,
   "metadata": {},
   "outputs": [],
   "source": [
    "f, (ax1, ax2) = plt.subplots(2, figsize = (6,5), sharex=True,\n",
    "                             gridspec_kw = {'height_ratios':[2, 1]})\n",
    "\n",
    "plt.sca(ax1)\n",
    "# plot\n",
    "for (egrid, func), label in zip(resp_list,labels):\n",
    "    plt.plot(egrid,func, label = label)\n",
    "plt.xlim(1e-11,5e-11)\n",
    "plt.ylim(0,3e-28)\n",
    "plt.text(3.5e-11, 1.5e-28, r'$E_{CR} = 10^{10} \\, \\mathrm{GeV}$', fontsize='large')\n",
    "plt.legend()\n",
    "plt.ylabel(r'response function $f(y = \\frac{E_{CR} \\, \\epsilon}{m}) \\, [\\mathrm{cm}^{-2}]$')\n",
    "plt.grid()\n",
    "\n",
    "plt.sca(ax2)\n",
    "_,func_scale = resp_list_upscale[-1]\n",
    "for egrid, func in resp_list_upscale:\n",
    "    ax2.plot(egrid,func/func_scale)\n",
    "plt.xlim(1e-11,5e-11)\n",
    "plt.ylim(0.8,1.2)\n",
    "plt.xlabel(r'photon energy $\\epsilon$ [GeV]')\n",
    "plt.ylabel(r'relative error')\n",
    "plt.grid()\n",
    "\n",
    "f.subplots_adjust(hspace=0.)\n",
    "plt.tight_layout()\n",
    "plt.show()"
   ]
  },
  {
   "cell_type": "markdown",
   "metadata": {},
   "source": [
    "# Check photon field dependence on photon grid"
   ]
  },
  {
   "cell_type": "code",
   "execution_count": null,
   "metadata": {},
   "outputs": [],
   "source": [
    "# plotting f_function\n",
    "cr_energy = 1e10\n",
    "\n",
    "ph_field_list = []\n",
    "ph_field_upscale = []\n",
    "\n",
    "grid_max = ph_energy_grids[-1]\n",
    "for grid in ph_energy_grids:\n",
    "    function = ph_field(grid, 0.)\n",
    "    ph_field_list.append((grid, function))\n",
    "\n",
    "    function = np.interp(grid_max, grid, function)\n",
    "    ph_field_upscale.append((grid_max, function))"
   ]
  },
  {
   "cell_type": "code",
   "execution_count": null,
   "metadata": {},
   "outputs": [],
   "source": [
    "f, (ax1, ax2) = plt.subplots(2, figsize = (6,5), sharex=True,\n",
    "                             gridspec_kw = {'height_ratios':[2, 1]})\n",
    "\n",
    "plt.sca(ax1)\n",
    "for (egrid, func), label in zip(ph_field_list,labels):\n",
    "    plt.plot(egrid,func, label = label)\n",
    "plt.xlim(0,2e-12)\n",
    "# ax1.ylim(0,4e-28)\n",
    "plt.legend()\n",
    "# ax1.tick_params(top='on',labeltop='on')\n",
    "plt.ylabel(r'CMB Photon field [GeV$^{-1}$ cm$^{-3}$]')\n",
    "plt.grid()\n",
    "\n",
    "plt.sca(ax2)\n",
    "_, func_scale = ph_field_upscale[-1]\n",
    "for egrid, func in ph_field_upscale:\n",
    "    plt.plot(egrid,func/func_scale)\n",
    "plt.xlim(0,2e-12)\n",
    "plt.ylim(0.99,1.01)\n",
    "plt.xlabel(r'photon energy [GeV]')\n",
    "plt.ylabel(r'relative error')\n",
    "plt.grid()\n",
    "\n",
    "f.subplots_adjust(hspace=0.)\n",
    "plt.tight_layout()\n",
    "plt.show()\n",
    "\n",
    "f.set_size_inches(6,6)\n",
    "f.savefig('/home/jheinze/CMB_grid_dependence.png', dpi=200)"
   ]
  },
  {
   "cell_type": "markdown",
   "metadata": {},
   "source": [
    "# Check the grid dependence of the product: Response $f(y) \\times$ Photonfield"
   ]
  },
  {
   "cell_type": "code",
   "execution_count": null,
   "metadata": {},
   "outputs": [],
   "source": [
    "# plotting f_function\n",
    "cr_energy = 5e11\n",
    "\n",
    "resp_list = []\n",
    "resp_list_upscale = []\n",
    "\n",
    "grid_max = ph_energy_grids[-1]\n",
    "ygrid_max = ph_energy_grids[-1] * cr_energy\n",
    "for grid in ph_energy_grids:\n",
    "    ygrid = cr_energy * grid # to ygrid by multiplying with Ecr\n",
    "\n",
    "    function = nonel_intp(ygrid)\n",
    "    resp_list.append((grid, function))\n",
    "\n",
    "    function = np.interp(ygrid_max, ygrid, function)\n",
    "    resp_list_upscale.append((grid_max, function))\n",
    "    \n",
    "    \n",
    "# plotting f_function\n",
    "ph_field_list = []\n",
    "ph_field_upscale = []\n",
    "\n",
    "grid_max = ph_energy_grids[-1]\n",
    "for grid in ph_energy_grids:\n",
    "    function = ph_field(grid, 0.)\n",
    "    ph_field_list.append((grid, function))\n",
    "\n",
    "    function = np.interp(grid_max, grid, function)\n",
    "    ph_field_upscale.append((grid_max, function))\n",
    "\n",
    "\n",
    "# plotting f_function\n",
    "fold_func = []\n",
    "fold_func_upscale = []\n",
    "\n",
    "grid_max = ph_energy_grids[-1]\n",
    "ygrid_max = ph_energy_grids[-1] * cr_energy\n",
    "for grid in ph_energy_grids:\n",
    "    ygrid = cr_energy * grid # to ygrid by multiplying with Ecr\n",
    "\n",
    "    function = nonel_intp(ygrid) * ph_field(grid, 0.)\n",
    "    fold_func.append((grid, function))\n",
    "\n",
    "    function = np.interp(grid_max, grid, function)\n",
    "    fold_func_upscale.append((grid_max, function))"
   ]
  },
  {
   "cell_type": "code",
   "execution_count": null,
   "metadata": {},
   "outputs": [],
   "source": [
    "f, (ax1, ax2) = plt.subplots(2, figsize = (6,5), sharex=True,\n",
    "                             gridspec_kw = {'height_ratios':[2, 1]})\n",
    "\n",
    "plt.sca(ax1)\n",
    "for (egrid, func), label in zip(fold_func,labels):\n",
    "    plt.plot(egrid,func, label = label,)\n",
    "\n",
    "_, arr = fold_func[-1]\n",
    "rel_scale = np.max(arr) / 4\n",
    "\n",
    "plt.gca().set_prop_cycle(None)\n",
    "rescale = 8e-15 * rel_scale\n",
    "# rescale = 8e-22\n",
    "for (egrid, func), label in zip(ph_field_list,labels):\n",
    "    plt.semilogx(egrid,rescale * func, alpha = 0.2)\n",
    "\n",
    "plt.gca().set_prop_cycle(None)\n",
    "rescale = 1.3e28 * rel_scale\n",
    "# rescale = 1 / rescale\n",
    "for (egrid, func), label in zip(resp_list,labels):\n",
    "    plt.semilogx(egrid,rescale * func, alpha = 0.2)\n",
    "\n",
    "plt.xlim(1e-14,1e-10)\n",
    "# ax1.ylim(0,4e-28)\n",
    "plt.legend()\n",
    "# ax1.tick_params(top='on',labeltop='on')\n",
    "plt.ylabel(r'CMB Photon field $\\times$ $f(y)$ ')\n",
    "plt.grid()\n",
    "plt.text(2e-14, 1.2e-13, r'$E_{CR} = 5 \\cdot 10^{11} \\, \\mathrm{GeV}$', fontsize='large')\n",
    "\n",
    "plt.sca(ax2)\n",
    "_, func_scale = fold_func_upscale[-1]\n",
    "for egrid, func in fold_func_upscale:\n",
    "    plt.semilogx(egrid,func/func_scale)\n",
    "plt.xlim(1e-14,1e-10)\n",
    "plt.ylim(0.8,1.2)\n",
    "plt.xlabel(r'photon energy [GeV]')\n",
    "plt.ylabel(r'relative error')\n",
    "plt.grid()\n",
    "\n",
    "f.subplots_adjust(hspace=0.)\n",
    "plt.tight_layout()\n",
    "plt.show()"
   ]
  },
  {
   "cell_type": "markdown",
   "metadata": {},
   "source": [
    "# Check the precision of the interaction rate depending on grids\n",
    "\n",
    "The interaction rate is the integral of the product Response $f(y) \\times$ Photonfield in each cosmic ray energy bin"
   ]
  },
  {
   "cell_type": "markdown",
   "metadata": {},
   "source": [
    "## 1st: Step integration"
   ]
  },
  {
   "cell_type": "code",
   "execution_count": null,
   "metadata": {},
   "outputs": [],
   "source": [
    "# getting intrates\n",
    "int_rate = []\n",
    "int_rate_upscale = []\n",
    "\n",
    "cr_grid = cr_energy_grids[3]\n",
    "for ph_grid, ph_width, in zip(ph_energy_grids, ph_energy_widths):\n",
    "    ph_mesh, cr_mesh = np.meshgrid(ph_grid, cr_grid, indexing='ij')\n",
    "    y_mesh = ph_mesh * cr_mesh\n",
    "\n",
    "    function = nonel_intp(y_mesh)\n",
    "#     for idx in range(y_mesh.shape[0]):\n",
    "#         function[idx,:] -= incl_intp(1.,y_mesh[idx,:],grid = True)[0]\n",
    "    function *= ph_field(ph_mesh, 0.)\n",
    "    rate = function * ph_width[:,np.newaxis]\n",
    "    rate = np.sum(rate, axis = 0)\n",
    "    \n",
    "    int_rate.append((cr_grid,rate))"
   ]
  },
  {
   "cell_type": "code",
   "execution_count": null,
   "metadata": {},
   "outputs": [],
   "source": [
    "# plot also weighted by cr_widths\n",
    "\n",
    "f, (ax1, ax2) = plt.subplots(2, figsize = (6,5), sharex=True,\n",
    "                             gridspec_kw = {'height_ratios':[2, 1]})\n",
    "\n",
    "plt.sca(ax1)\n",
    "for (ecrgrid, func), label in zip(int_rate,labels):\n",
    "    plt.loglog(ecrgrid, func, label = label)\n",
    "\n",
    "plt.xlim(1e9,1e14)\n",
    "plt.ylim(1e-26,1e-25)\n",
    "# plt.ylim(1e-25,1e-24)\n",
    "\n",
    "plt.legend()\n",
    "# ax1.tick_params(top='on',labeltop='on')\n",
    "plt.ylabel(r'Interaction rate [$\\mathrm{cm}^{-1}$]')\n",
    "plt.grid()\n",
    "\n",
    "plt.sca(ax2)\n",
    "_, func_scale = int_rate[-1]\n",
    "for ecrgrid, func in int_rate:\n",
    "    plt.semilogx(ecrgrid,func/func_scale)\n",
    "plt.xlim(1e9,1e14)\n",
    "plt.ylim(0.98,1.02)\n",
    "plt.xlabel(r'cosmic ray energy [GeV]')\n",
    "plt.ylabel(r'relative error')\n",
    "plt.grid()\n",
    "\n",
    "f.subplots_adjust(hspace=0.)\n",
    "plt.tight_layout()\n",
    "plt.show()\n",
    "\n",
    "f.set_size_inches(6,6)"
   ]
  },
  {
   "cell_type": "markdown",
   "metadata": {},
   "source": [
    "## 2nd: tapz integration"
   ]
  },
  {
   "cell_type": "code",
   "execution_count": null,
   "metadata": {},
   "outputs": [],
   "source": [
    "# getting intrates\n",
    "int_rate = []\n",
    "int_rate_upscale = []\n",
    "\n",
    "cr_grid = cr_energy_grids[3]\n",
    "for ph_bins in ph_energy_bins:\n",
    "    ph_mesh, cr_mesh = np.meshgrid(ph_bins, cr_grid, indexing='ij')\n",
    "    y_mesh = ph_mesh * cr_mesh\n",
    "\n",
    "    function = nonel_intp(y_mesh) * ph_field(ph_mesh, 0.)\n",
    "#     for idx in range(y_mesh.shape[0]):\n",
    "#         function[idx,:] -= incl_intp(1.,y_mesh[idx,:],grid = True)[0]\n",
    "    rate = np.trapz(function,x = ph_bins, axis = 0)\n",
    "    \n",
    "    int_rate.append((cr_grid,rate))"
   ]
  },
  {
   "cell_type": "code",
   "execution_count": null,
   "metadata": {},
   "outputs": [],
   "source": [
    "f, (ax1, ax2) = plt.subplots(2, figsize = (6,5), sharex=True,\n",
    "                             gridspec_kw = {'height_ratios':[2, 1]})\n",
    "\n",
    "plt.sca(ax1)\n",
    "for (ecrgrid, func), label in zip(int_rate,labels):\n",
    "    plt.loglog(ecrgrid, func, label = label)\n",
    "\n",
    "plt.xlim(1e9,1e14)\n",
    "plt.ylim(1e-26,1e-25)\n",
    "\n",
    "plt.legend()\n",
    "# ax1.tick_params(top='on',labeltop='on')\n",
    "plt.ylabel(r'Interaction rate [$\\mathrm{cm}^{-1}$]')\n",
    "plt.grid()\n",
    "\n",
    "plt.sca(ax2)\n",
    "_, func_scale = int_rate[-1]\n",
    "for ecrgrid, func in int_rate:\n",
    "    plt.semilogx(ecrgrid,func/func_scale)\n",
    "plt.xlim(1e9,1e14)\n",
    "plt.ylim(0.98,1.02)\n",
    "plt.xlabel(r'cosmic ray energy [GeV]')\n",
    "plt.ylabel(r'relative error')\n",
    "plt.grid()\n",
    "\n",
    "f.subplots_adjust(hspace=0.)\n",
    "plt.tight_layout()\n",
    "plt.show()\n",
    "\n",
    "f.set_size_inches(6,6)"
   ]
  },
  {
   "cell_type": "code",
   "execution_count": null,
   "metadata": {},
   "outputs": [],
   "source": []
  }
 ],
 "metadata": {
  "kernelspec": {
   "display_name": "Python 3",
   "language": "python",
   "name": "python3"
  },
  "language_info": {
   "codemirror_mode": {
    "name": "ipython",
    "version": 3
   },
   "file_extension": ".py",
   "mimetype": "text/x-python",
   "name": "python",
   "nbconvert_exporter": "python",
   "pygments_lexer": "ipython3",
   "version": "3.7.7"
  }
 },
 "nbformat": 4,
 "nbformat_minor": 4
}
