{
 "cells": [
  {
   "cell_type": "markdown",
   "metadata": {},
   "source": [
    "This notebooks imports and plots the cross section models exiting in the code."
   ]
  },
  {
   "cell_type": "code",
   "execution_count": null,
   "metadata": {},
   "outputs": [],
   "source": [
    "%load_ext autoreload\n",
    "%autoreload 2\n",
    "import numpy as np\n",
    "import matplotlib.pyplot as plt\n",
    "%matplotlib inline\n",
    "\n",
    "from prince import cross_sections"
   ]
  },
  {
   "cell_type": "markdown",
   "metadata": {},
   "source": [
    "# Importing the cross section models and plotting them"
   ]
  },
  {
   "cell_type": "markdown",
   "metadata": {},
   "source": [
    "### Peanut Model"
   ]
  },
  {
   "cell_type": "markdown",
   "metadata": {},
   "source": [
    "Peanut is a tabulated model. It is chosen as default, when making an instance of TabulatedCrossSection."
   ]
  },
  {
   "cell_type": "code",
   "execution_count": null,
   "metadata": {},
   "outputs": [],
   "source": [
    "cs_peanut = cross_sections.TabulatedCrossSection('peanut_IAS')"
   ]
  },
  {
   "cell_type": "code",
   "execution_count": null,
   "metadata": {},
   "outputs": [],
   "source": [
    "cs_talys = cross_sections.TabulatedCrossSection('CRP2_TALYS')"
   ]
  },
  {
   "cell_type": "code",
   "execution_count": null,
   "metadata": {},
   "outputs": [],
   "source": [
    "max(cs_peanut.nonel_idcs)"
   ]
  },
  {
   "cell_type": "markdown",
   "metadata": {},
   "source": [
    "### Sophia Superposition Model"
   ]
  },
  {
   "cell_type": "code",
   "execution_count": null,
   "metadata": {},
   "outputs": [],
   "source": [
    "cs_sophia = cross_sections.SophiaSuperposition()"
   ]
  },
  {
   "cell_type": "markdown",
   "metadata": {},
   "source": [
    "### Empirical Model"
   ]
  },
  {
   "cell_type": "markdown",
   "metadata": {},
   "source": [
    "Photomeson model based on experimental data and empirical relations."
   ]
  },
  {
   "cell_type": "code",
   "execution_count": null,
   "metadata": {},
   "outputs": [],
   "source": [
    "cs_em = cross_sections.EmpiricalModel()"
   ]
  },
  {
   "cell_type": "code",
   "execution_count": null,
   "metadata": {},
   "outputs": [],
   "source": [
    "r1 = cs_em.nonel(100)\n",
    "r1 = cs_em.nonel(5626)\n",
    "r1 = cs_em.incl(1407, 100)\n",
    "r1 = cs_em.incl(1407, 4)\n",
    "r1 = cs_em.incl_diff(1407, 100)\n",
    "r1 = cs_em.incl_diff(1407, 100)"
   ]
  },
  {
   "cell_type": "code",
   "execution_count": null,
   "metadata": {},
   "outputs": [],
   "source": [
    "for mo, da in cs_peanut.incl_idcs:\n",
    "    if mo < da:\n",
    "        print(mo, da)\n",
    "print('------------------')\n",
    "for mo, da in cs_peanut._incl_tab:\n",
    "    if mo < da:\n",
    "        print(mo, da)"
   ]
  },
  {
   "cell_type": "markdown",
   "metadata": {},
   "source": [
    "Model based on empirical relations and experimental data. More realistic than the Superposition Model."
   ]
  },
  {
   "cell_type": "code",
   "execution_count": null,
   "metadata": {},
   "outputs": [],
   "source": [
    "cs_empiric = cross_sections.EmpiricalModel()"
   ]
  },
  {
   "cell_type": "markdown",
   "metadata": {},
   "source": [
    "## Plots"
   ]
  },
  {
   "cell_type": "markdown",
   "metadata": {},
   "source": [
    "### Sophia Model"
   ]
  },
  {
   "cell_type": "markdown",
   "metadata": {},
   "source": [
    "This simple model just assumes a superposition of the nucleons in each nucleus.\n",
    "\n",
    "So the crosssection scaled by $ 1 / A $ should look almost the same in all cases.\n",
    "\n",
    "(The small difference is due to the different crossections for protons and neutrons.)\n",
    "\n",
    "**This model is only valid above the pion prod. treshold $\\approx 2 \\cdot 10^{-1} \\mathrm{GeV}$**"
   ]
  },
  {
   "cell_type": "code",
   "execution_count": null,
   "metadata": {},
   "outputs": [],
   "source": [
    "# non elastic cross-section for different elements\n",
    "# cross section at high energy should scale only with mass number A\n",
    "fig, (ax1, ax2) = plt.subplots(1,2,figsize = (10,4))\n",
    "\n",
    "plt.sca(ax1)\n",
    "eplot = np.logspace(-1,3,200)\n",
    "plt.loglog(*cs_sophia.nonel_scale(100), label = 'neutron')\n",
    "plt.loglog(*cs_sophia.nonel_scale(101), label = 'proton')\n",
    "plt.loglog(*cs_sophia.nonel_scale(402), label = 'helium')\n",
    "plt.loglog(*cs_sophia.nonel_scale(1407), label = 'nitrogen')\n",
    "plt.loglog(*cs_sophia.nonel_scale(2814), label = 'silicon')\n",
    "plt.loglog(*cs_sophia.nonel_scale(5626), label = 'iron')\n",
    "\n",
    "\n",
    "plt.title('cross sections for different elements')\n",
    "plt.xlabel('energy [GeV]')\n",
    "plt.ylabel('cross section [cm$^{-2}$] / A')\n",
    "plt.ylim(1e-29,1e-27)\n",
    "plt.legend()\n",
    "\n",
    "plt.sca(ax2)\n",
    "plt.loglog(*cs_sophia.resp.get_channel_scale(100), label = 'neutron')\n",
    "plt.loglog(*cs_sophia.resp.get_channel_scale(101), label = 'proton')\n",
    "plt.loglog(*cs_sophia.resp.get_channel_scale(402), label = 'helium')\n",
    "plt.loglog(*cs_sophia.resp.get_channel_scale(1407), label = 'nitrogen')\n",
    "plt.loglog(*cs_sophia.resp.get_channel_scale(2814), label = 'silicon')\n",
    "plt.loglog(*cs_sophia.resp.get_channel_scale(5626), label = 'iron')\n",
    "\n",
    "plt.title('response function for different elements')\n",
    "plt.xlabel('y [GeV]')\n",
    "plt.ylabel('f(y) [GeV$^{-1}$ cm$^{-2}$] / A')\n",
    "plt.ylim(1e-29,1e-27)\n",
    "plt.legend()\n",
    "\n",
    "plt.tight_layout()"
   ]
  },
  {
   "cell_type": "markdown",
   "metadata": {},
   "source": [
    "### Empirical Model"
   ]
  },
  {
   "cell_type": "markdown",
   "metadata": {},
   "source": [
    "This uses a universal function for the crosssection scaled by $ 1 / A $ in the resonances region, and a superposition beyond that.\n",
    "\n",
    "The mass scaling of the cross section gradually turns from $A$ to $A^{2/3}$ with increasing energy leading to a mass difference between the cross section of different nuclei divided by $A$.\n",
    "\n",
    "**This model is only valid above the pion prod. treshold $\\approx 2 \\cdot 10^{-1} \\mathrm{GeV}$**"
   ]
  },
  {
   "cell_type": "code",
   "execution_count": null,
   "metadata": {},
   "outputs": [],
   "source": [
    "# non elastic cross-section for different elements\n",
    "# cross section at high energy should scale only with mass number A\n",
    "fig, (ax1, ax2) = plt.subplots(1,2,figsize = (10,4))\n",
    "\n",
    "plt.sca(ax1)\n",
    "eplot = np.logspace(-1,3,200)\n",
    "plt.loglog(*cs_empiric.nonel_scale(100), label = 'neutron')\n",
    "plt.loglog(*cs_empiric.nonel_scale(101), label = 'proton')\n",
    "plt.loglog(*cs_empiric.nonel_scale(402), label = 'helium')\n",
    "plt.loglog(*cs_empiric.nonel_scale(1407), label = 'nitrogen')\n",
    "plt.loglog(*cs_empiric.nonel_scale(2814), label = 'silicon')\n",
    "plt.loglog(*cs_empiric.nonel_scale(5626), label = 'iron')\n",
    "\n",
    "\n",
    "plt.title('cross sections for different elements')\n",
    "plt.xlabel('energy [GeV]')\n",
    "plt.ylabel('cross section [cm$^{-2}$] / A')\n",
    "plt.ylim(1e-29,1e-27)\n",
    "plt.legend()\n",
    "\n",
    "plt.sca(ax2)\n",
    "plt.loglog(*cs_empiric.resp.get_channel_scale(100), label = 'neutron')\n",
    "plt.loglog(*cs_empiric.resp.get_channel_scale(101), label = 'proton')\n",
    "plt.loglog(*cs_empiric.resp.get_channel_scale(402), label = 'helium')\n",
    "plt.loglog(*cs_empiric.resp.get_channel_scale(1407), label = 'nitrogen')\n",
    "plt.loglog(*cs_empiric.resp.get_channel_scale(2814), label = 'silicon')\n",
    "plt.loglog(*cs_empiric.resp.get_channel_scale(5626), label = 'iron')\n",
    "\n",
    "plt.title('response function for different elements')\n",
    "plt.xlabel('y [GeV]')\n",
    "plt.ylabel('f(y) [GeV$^{-1}$ cm$^{-2}$] / A')\n",
    "plt.ylim(1e-29,1e-27)\n",
    "plt.legend()\n",
    "\n",
    "plt.tight_layout()"
   ]
  },
  {
   "cell_type": "markdown",
   "metadata": {},
   "source": [
    "### Peanut Model"
   ]
  },
  {
   "cell_type": "markdown",
   "metadata": {},
   "source": [
    "The tabulated peanut model has realistic cross section for photodisintegration.\n",
    "This process dominates below $10^{-1} \\mathrm{GeV}$. Above that the photomeson crosssection has a universal curve for nuclei, which is due to smearing of the nucleons due to fermi motion. (it is therefore more peaked in the proton case.)\n",
    "\n",
    "The data does not extend above $ 1 \\mathrm{GeV}$\n",
    "\n"
   ]
  },
  {
   "cell_type": "code",
   "execution_count": null,
   "metadata": {},
   "outputs": [],
   "source": [
    "# non elastic cross-section for different elements\n",
    "# cross section at high energy should scale only with mass number A\n",
    "fig, (ax1, ax2) = plt.subplots(1,2,figsize = (10,4))\n",
    "\n",
    "plt.sca(ax1)\n",
    "eplot = np.logspace(-1,3,200)\n",
    "plt.loglog(*cs_peanut.nonel_scale(101), label = 'proton')\n",
    "plt.loglog(*cs_peanut.nonel_scale(201), label = 'deuterium')\n",
    "plt.loglog(*cs_peanut.nonel_scale(402), label = 'helium')\n",
    "plt.loglog(*cs_peanut.nonel_scale(1407), label = 'nitrogen')\n",
    "plt.loglog(*cs_peanut.nonel_scale(2814), label = 'silicon')\n",
    "plt.loglog(*cs_peanut.nonel_scale(5626), label = 'iron')\n",
    "\n",
    "\n",
    "plt.title('cross sections for different elements')\n",
    "plt.xlabel('energy [GeV]')\n",
    "plt.ylabel('cross section [cm$^{-2}$] / A')\n",
    "plt.ylim(1e-29,1e-26)\n",
    "plt.legend()\n",
    "\n",
    "plt.sca(ax2)\n",
    "plt.loglog(*cs_peanut.resp.get_channel_scale(101), label = 'proton')\n",
    "plt.loglog(*cs_peanut.resp.get_channel_scale(201), label = 'deuterium')\n",
    "plt.loglog(*cs_peanut.resp.get_channel_scale(402), label = 'helium')\n",
    "plt.loglog(*cs_peanut.resp.get_channel_scale(1407), label = 'nitrogen')\n",
    "plt.loglog(*cs_peanut.resp.get_channel_scale(2814), label = 'silicon')\n",
    "plt.loglog(*cs_peanut.resp.get_channel_scale(5626), label = 'iron')\n",
    "\n",
    "plt.title('response function for different elements')\n",
    "plt.xlabel('y [GeV]')\n",
    "plt.ylabel('f(y) [GeV$^{-1}$ cm$^{-2}$] / A')\n",
    "plt.ylim(1e-29,1e-26)\n",
    "plt.legend()\n",
    "\n",
    "plt.tight_layout()"
   ]
  },
  {
   "cell_type": "code",
   "execution_count": null,
   "metadata": {},
   "outputs": [],
   "source": [
    "# non elastic cross-section for different elements\n",
    "# cross section at high energy should scale only with mass number A\n",
    "fig, (ax1, ax2) = plt.subplots(1,2,figsize = (10,4))\n",
    "\n",
    "plt.sca(ax1)\n",
    "eplot = np.logspace(-1,3,200)\n",
    "plt.loglog(*cs_sophia.nonel_scale(101), label = 'proton')\n",
    "plt.loglog(*cs_sophia.nonel_scale(201), label = 'deuterium')\n",
    "plt.loglog(*cs_sophia.nonel_scale(402), label = 'helium')\n",
    "plt.loglog(*cs_sophia.nonel_scale(1407), label = 'nitrogen')\n",
    "plt.loglog(*cs_sophia.nonel_scale(2814), label = 'silicon')\n",
    "plt.loglog(*cs_sophia.nonel_scale(5626), label = 'iron')\n",
    "\n",
    "\n",
    "plt.title('cross sections for different elements')\n",
    "plt.xlabel('energy [GeV]')\n",
    "plt.ylabel('cross section [cm$^{-2}$] / A')\n",
    "plt.ylim(1e-29,1e-26)\n",
    "plt.legend()\n",
    "\n",
    "plt.sca(ax2)\n",
    "plt.loglog(*cs_sophia.resp.get_channel_scale(101), label = 'proton')\n",
    "plt.loglog(*cs_sophia.resp.get_channel_scale(201), label = 'deuterium')\n",
    "plt.loglog(*cs_sophia.resp.get_channel_scale(402), label = 'helium')\n",
    "plt.loglog(*cs_sophia.resp.get_channel_scale(1407), label = 'nitrogen')\n",
    "plt.loglog(*cs_sophia.resp.get_channel_scale(2814), label = 'silicon')\n",
    "plt.loglog(*cs_sophia.resp.get_channel_scale(5626), label = 'iron')\n",
    "\n",
    "plt.title('response function for different elements')\n",
    "plt.xlabel('y [GeV]')\n",
    "plt.ylabel('f(y) [GeV$^{-1}$ cm$^{-2}$] / A')\n",
    "plt.ylim(1e-29,1e-26)\n",
    "plt.legend()\n",
    "\n",
    "plt.tight_layout()"
   ]
  },
  {
   "cell_type": "markdown",
   "metadata": {},
   "source": [
    "### Combining two models"
   ]
  },
  {
   "cell_type": "markdown",
   "metadata": {},
   "source": [
    "Combining the cross section works by giving a list of models and their thresholds to the CompositeCrossSection class.\n",
    "\n",
    "There should of course be no difference to the individual models in their range. (Thought the response function differs slightly, as it is averaged over all lover energies.)"
   ]
  },
  {
   "cell_type": "code",
   "execution_count": null,
   "metadata": {},
   "outputs": [],
   "source": [
    "%%time\n",
    "cs_combined = cross_sections.CompositeCrossSection([(0., cross_sections.TabulatedCrossSection, ('CRP2_TALYS',)),\n",
    "                                           (0.14, cross_sections.SophiaSuperposition, ())])"
   ]
  },
  {
   "cell_type": "code",
   "execution_count": null,
   "metadata": {},
   "outputs": [],
   "source": [
    "# non elastic cross-section for different elements\n",
    "# cross section at high energy should scale only with mass number A\n",
    "fig, (ax1, ax2) = plt.subplots(1,2,figsize = (10,4))\n",
    "\n",
    "plt.sca(ax1)\n",
    "eplot = np.logspace(-1,3,200)\n",
    "plt.loglog(*cs_combined.nonel_scale(101), label = 'proton')\n",
    "plt.loglog(*cs_combined.nonel_scale(201), label = 'deuterium')\n",
    "plt.loglog(*cs_combined.nonel_scale(402), label = 'helium')\n",
    "plt.loglog(*cs_combined.nonel_scale(1407), label = 'nitrogen')\n",
    "plt.loglog(*cs_combined.nonel_scale(2814), label = 'silicon')\n",
    "plt.loglog(*cs_combined.nonel_scale(5626), label = 'iron')\n",
    "\n",
    "\n",
    "plt.title('cross sections for different elements')\n",
    "plt.xlabel('energy [GeV]')\n",
    "plt.ylabel('cross section [cm$^{-2}$] / A')\n",
    "plt.xlim(1e-3,1e1)\n",
    "plt.ylim(1e-29,1e-26)\n",
    "plt.legend()\n",
    "\n",
    "plt.sca(ax2)\n",
    "plt.loglog(*cs_combined.resp.get_channel_scale(101), label = 'proton')\n",
    "plt.loglog(*cs_combined.resp.get_channel_scale(201), label = 'deuterium')\n",
    "plt.loglog(*cs_combined.resp.get_channel_scale(402), label = 'helium')\n",
    "plt.loglog(*cs_combined.resp.get_channel_scale(1407), label = 'nitrogen')\n",
    "plt.loglog(*cs_combined.resp.get_channel_scale(2814), label = 'silicon')\n",
    "plt.loglog(*cs_combined.resp.get_channel_scale(5626), label = 'iron')\n",
    "\n",
    "plt.title('response function for different elements')\n",
    "plt.xlabel('y [GeV]')\n",
    "plt.ylabel('f(y) [GeV$^{-1}$ cm$^{-2}$] / A')\n",
    "plt.xlim(1e-3,1e1)\n",
    "plt.ylim(1e-29,1e-26)\n",
    "plt.legend()\n",
    "\n",
    "plt.tight_layout()"
   ]
  },
  {
   "cell_type": "code",
   "execution_count": null,
   "metadata": {},
   "outputs": [],
   "source": [
    "fig, ax = plt.subplots(2,2,figsize = (10,8))\n",
    "\n",
    "eplot = np.logspace(-3,3,200)\n",
    "\n",
    "plt.sca(ax[0,0])\n",
    "plt.loglog(*cs_sophia.nonel_scale(101), label = 'sophia superpos.')\n",
    "plt.loglog(*cs_talys.nonel_scale(101), label = 'peanut')\n",
    "plt.loglog(*cs_combined.nonel_scale(101), label = 'combined model', c = 'black', linestyle= 'dotted')\n",
    "plt.title('cross sections for proton')\n",
    "plt.xlabel('energy [GeV]')\n",
    "plt.ylabel('cross section [cm$^{-2}$]')\n",
    "plt.xlim(1e-2,1e3)\n",
    "plt.ylim(1e-29,2e-27)\n",
    "plt.legend()\n",
    "\n",
    "plt.sca(ax[0,1])\n",
    "plt.loglog(*cs_sophia.nonel_scale(1407), label = 'sophia superpos.')\n",
    "plt.loglog(*cs_talys.nonel_scale(1407), label = 'peanut')\n",
    "plt.loglog(*cs_combined.nonel_scale(1407), label = 'combined model', c = 'black', linestyle= 'dotted')\n",
    "plt.title('cross sections for nitrogen')\n",
    "plt.xlabel('energy [GeV]')\n",
    "plt.ylabel('cross section [cm$^{-2}$]')\n",
    "plt.xlim(1e-2,1e3)\n",
    "plt.ylim(1e-29,2e-27)\n",
    "plt.legend()\n",
    "\n",
    "plt.sca(ax[1,0])\n",
    "plt.loglog(*cs_sophia.nonel_scale(2814), label = 'sophia superpos.')\n",
    "plt.loglog(*cs_talys.nonel_scale(2814), label = 'peanut')\n",
    "plt.loglog(*cs_combined.nonel_scale(2814), label = 'combined model', c = 'black', linestyle= 'dotted')\n",
    "plt.title('cross sections for silicon')\n",
    "plt.xlabel('energy [GeV]')\n",
    "plt.ylabel('cross section [cm$^{-2}$]')\n",
    "plt.xlim(1e-2,1e3)\n",
    "plt.ylim(1e-29,2e-27)\n",
    "plt.legend()\n",
    "\n",
    "plt.sca(ax[1,1])\n",
    "plt.loglog(*cs_sophia.nonel_scale(5626), label = 'sophia superpos.')\n",
    "plt.loglog(*cs_talys.nonel_scale(5626), label = 'peanut')\n",
    "plt.loglog(*cs_combined.nonel_scale(5626), label = 'combined model', c = 'black', linestyle= 'dotted')\n",
    "plt.title('cross sections for iron')\n",
    "plt.xlabel('energy [GeV]')\n",
    "plt.ylabel('cross section [cm$^{-2}$]')\n",
    "plt.xlim(1e-2,1e3)\n",
    "plt.ylim(1e-29,2e-27)\n",
    "plt.legend()\n",
    "\n",
    "plt.tight_layout()"
   ]
  },
  {
   "cell_type": "markdown",
   "metadata": {},
   "source": [
    "# inclusive cross sections"
   ]
  },
  {
   "cell_type": "code",
   "execution_count": null,
   "metadata": {},
   "outputs": [],
   "source": [
    "# print nonelastic and inclusive crosssections for oxygen (pid = 1608)\n",
    "fig, ax = plt.subplots(2,2,figsize = (10,8))\n",
    "\n",
    "eplot = np.logspace(-3,3,200)\n",
    "\n",
    "plt.sca(ax[0,0])\n",
    "\n",
    "plt.semilogx(*cs_sophia.incl_scale(402,101), label = 'sophia superpos.')\n",
    "plt.semilogx(*cs_talys.incl_scale(402,101), label = 'peanut')\n",
    "plt.semilogx(*cs_combined.incl_scale(402,101), c = 'black', label = 'combined model', linestyle= 'dotted')\n",
    "\n",
    "plt.title('inclusive cross sections for helium -> proton')\n",
    "plt.xlabel('energy [GeV]')\n",
    "plt.ylabel('cross section [cm$^{-2}$]')\n",
    "plt.legend()\n",
    "\n",
    "plt.sca(ax[0,1])\n",
    "\n",
    "plt.semilogx(*cs_sophia.incl_scale(1407,101), label = 'sophia superpos.')\n",
    "plt.semilogx(*cs_talys.incl_scale(1407,101), label = 'peanut')\n",
    "plt.semilogx(*cs_combined.incl_scale(1407,101), c = 'black', label = 'combined model', linestyle= 'dotted')\n",
    "\n",
    "plt.title('inclusive cross sections for nitrogen -> proton')\n",
    "plt.xlabel('energy [GeV]')\n",
    "plt.ylabel('cross section [cm$^{-2}$]')\n",
    "plt.legend()\n",
    "\n",
    "plt.sca(ax[1,0])\n",
    "\n",
    "plt.semilogx(*cs_sophia.incl_scale(2814,101), label = 'sophia superpos.')\n",
    "plt.semilogx(*cs_talys.incl_scale(2814,101), label = 'peanut')\n",
    "plt.semilogx(*cs_combined.incl_scale(2814,101), c = 'black', label = 'combined model', linestyle= 'dotted')\n",
    "\n",
    "plt.title('inclusive cross sections for silicon -> proton')\n",
    "plt.xlabel('energy [GeV]')\n",
    "plt.ylabel('cross section [cm$^{-2}$]')\n",
    "plt.legend()\n",
    "\n",
    "plt.sca(ax[1,1])\n",
    "\n",
    "plt.semilogx(*cs_sophia.incl_scale(5626,101), label = 'sophia superpos.')\n",
    "plt.semilogx(*cs_talys.incl_scale(5626,101), label = 'peanut')\n",
    "plt.semilogx(*cs_combined.incl_scale(5626,101), c = 'black', label = 'combined model', linestyle= 'dotted')\n",
    "\n",
    "plt.title('inclusive cross sections for iron -> proton')\n",
    "plt.xlabel('energy [GeV]')\n",
    "plt.ylabel('cross section [cm$^{-2}$]')\n",
    "plt.legend()\n",
    "\n",
    "plt.tight_layout()"
   ]
  },
  {
   "cell_type": "code",
   "execution_count": null,
   "metadata": {},
   "outputs": [],
   "source": []
  }
 ],
 "metadata": {
  "kernelspec": {
   "display_name": "Python 3",
   "language": "python",
   "name": "python3"
  },
  "language_info": {
   "codemirror_mode": {
    "name": "ipython",
    "version": 3
   },
   "file_extension": ".py",
   "mimetype": "text/x-python",
   "name": "python",
   "nbconvert_exporter": "python",
   "pygments_lexer": "ipython3",
   "version": "3.7.7"
  }
 },
 "nbformat": 4,
 "nbformat_minor": 4
}
