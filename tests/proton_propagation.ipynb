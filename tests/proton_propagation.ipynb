{
 "cells": [
  {
   "cell_type": "markdown",
   "metadata": {},
   "source": [
    "This notebook is a test for propagation of pure protons, with different interactions enabled/disabled"
   ]
  },
  {
   "cell_type": "code",
   "execution_count": null,
   "metadata": {},
   "outputs": [],
   "source": [
    "%load_ext autoreload\n",
    "%autoreload 2\n",
    "import numpy as np\n",
    "import scipy as sc\n",
    "import matplotlib.pyplot as plt\n",
    "%matplotlib inline"
   ]
  },
  {
   "cell_type": "code",
   "execution_count": null,
   "metadata": {},
   "outputs": [],
   "source": [
    "import prince_config\n",
    "from prince import core, util, photonfields, cross_sections\n",
    "from prince import util as pru"
   ]
  },
  {
   "cell_type": "markdown",
   "metadata": {},
   "source": [
    "# Create a PriNCeRun object with max mass set to 1"
   ]
  },
  {
   "cell_type": "code",
   "execution_count": null,
   "metadata": {
    "scrolled": true
   },
   "outputs": [],
   "source": [
    "%%time\n",
    "\n",
    "prince_config.config.update({\n",
    "        \"max_mass\": 1,\n",
    "        \"secondaries\": True,\n",
    "        \"x_cut\":1e-6,\n",
    "        \"x_cut_proton\":1e-3,    \n",
    "        # Format (log10(E_min), log10(E_max), nbins/decade of energy)\n",
    "        # Main energy grid for solver\n",
    "        \"cosmic_ray_grid\": (3, 14, 8),\n",
    "        # Photon grid of target field, only for calculation of rates\n",
    "        \"photon_grid\": (-15, -6, 8),\n",
    "    })\n",
    "\n",
    "pf = photonfields.CMBPhotonSpectrum()\n",
    "cs = cross_sections.CompositeCrossSection(\n",
    "             [(0., cross_sections.TabulatedCrossSection, ()),\n",
    "              (0.14, cross_sections.SophiaSuperposition, ())])\n",
    "prince_run = core.PriNCeRun(photon_field=pf,cross_sections=cs)"
   ]
  },
  {
   "cell_type": "markdown",
   "metadata": {},
   "source": [
    "# Run solvers with different interactions enabled"
   ]
  },
  {
   "cell_type": "code",
   "execution_count": null,
   "metadata": {},
   "outputs": [],
   "source": [
    "%%time\n",
    "from prince.solvers import UHECRPropagationSolverBDF as SolClass\n",
    "from prince.cr_sources import SimpleSource\n",
    "\n",
    "initial_z = 1.\n",
    "final_z = 0.\n",
    "norm = 1.\n",
    "source = SimpleSource(prince_run,params={101: (2.5,1e12,1.)}, norm=1.,m=0.)\n",
    "\n",
    "sol_adiabatic = SolClass(initial_z=initial_z, final_z =final_z,prince_run=prince_run,\n",
    "                         enable_pairprod_losses = False,\n",
    "                         enable_adiabatic_losses = True,\n",
    "                         enable_photohad_losses = False)\n",
    "sol_adiabatic.add_source_class(source)\n",
    "\n",
    "sol_pairprod = SolClass(initial_z=initial_z, final_z =final_z,prince_run=prince_run,\n",
    "                        enable_pairprod_losses = True,\n",
    "                        enable_adiabatic_losses = True,\n",
    "                        enable_photohad_losses = False)\n",
    "sol_pairprod.add_source_class(source)\n",
    "\n",
    "sol_photohad = SolClass(initial_z=initial_z, final_z =final_z,prince_run=prince_run,\n",
    "                        enable_pairprod_losses = False,\n",
    "                        enable_adiabatic_losses = True,\n",
    "                        enable_photohad_losses = True)\n",
    "sol_photohad.add_source_class(source)\n",
    "\n",
    "sol_alllosses = SolClass(initial_z=initial_z, final_z =final_z,prince_run=prince_run,\n",
    "                         enable_pairprod_losses = True,\n",
    "                         enable_adiabatic_losses = True,\n",
    "                         enable_photohad_losses = True)\n",
    "sol_alllosses.add_source_class(source)\n",
    "\n",
    "for solver in [sol_adiabatic, sol_pairprod, sol_photohad, sol_alllosses]:\n",
    "    solver.solve(dz=1e-3,verbose=False,full_reset=False, progressbar=True)\n",
    "    print(solver.list_of_sources)\n",
    "    print('finished solving for', str(solver))\n",
    "\n",
    "solver_d2 = [sol_adiabatic, sol_pairprod, sol_photohad, sol_alllosses]"
   ]
  },
  {
   "cell_type": "markdown",
   "metadata": {},
   "source": [
    "# Normalize and plot the results"
   ]
  },
  {
   "cell_type": "code",
   "execution_count": null,
   "metadata": {},
   "outputs": [],
   "source": [
    "results = []\n",
    "for solver in [sol_adiabatic, sol_pairprod, sol_photohad, sol_alllosses]:\n",
    "    result = solver.res\n",
    "    egrid, spec = result.get_solution_group('CR')\n",
    "    norm = 1e2/spec[(np.abs(egrid - 1e8)).argmin()]\n",
    "    print(f'{norm:.2e}')\n",
    "    \n",
    "    result = result * norm\n",
    "    results.append(result)\n",
    "\n",
    "res_adiabatic, res_pairprod, res_photohad, res_alllosses = results"
   ]
  },
  {
   "cell_type": "code",
   "execution_count": null,
   "metadata": {},
   "outputs": [],
   "source": [
    "fig, ax = plt.subplots(1,2, figsize = (8,4))\n",
    "\n",
    "#----------------------------------------------\n",
    "# compare contributions cosmic rays\n",
    "#----------------------------------------------\n",
    "plt.sca(ax[0])\n",
    "\n",
    "for (result, label, color) in zip([res_adiabatic, res_pairprod, res_photohad, res_alllosses],\n",
    "                                  ['adiabatic', 'pairprod', 'photohad', 'alllosses'],\n",
    "                                  ['darkorange','deepskyblue','tomato','forestgreen']):\n",
    "    energy, spectrum = result.get_solution_scale(101,epow=3)\n",
    "    l = plt.loglog(energy, spectrum, label=label, c=color, alpha = 0.6)\n",
    "\n",
    "plt.legend(ncol=2)#, fontsize='xx-small')\n",
    "\n",
    "plt.ylabel(r'$E^3 F_p$ in [GeV$^2$ cm$^{-2}$ s$^{-1}$ sr$^{-1}$]')\n",
    "plt.ylim(1e0,1e5)\n",
    "plt.xlabel(r'$E$ in [GeV]')\n",
    "plt.xlim(1e8,1e13)\n",
    "\n",
    "#----------------------------------------------\n",
    "# compare contributions neutrinos\n",
    "#----------------------------------------------\n",
    "plt.sca(ax[1])\n",
    "\n",
    "plt.loglog()\n",
    "plt.legend(ncol=3)#, fontsize='xx-small')\n",
    "\n",
    "for (result, label, color) in zip([\n",
    "    res_photohad, res_alllosses],\n",
    "                                  ['photohad', 'alllosses'],\n",
    "                                  ['tomato','forestgreen']):\n",
    "    energy, spectrum = result.get_solution_group([11,12,13,14],epow=2)\n",
    "    l = plt.loglog(energy, spectrum, label=label, c=color, alpha = 0.6)\n",
    "\n",
    "plt.legend(ncol=2)#, fontsize='xx-small')\n",
    "\n",
    "plt.ylabel(r'$E^2 F_\\nu$ in [GeV cm$^{-2}$ s$^{-1}$ sr$^{-1}$]')\n",
    "plt.ylim(1e-11,1e-7)\n",
    "plt.xlim(1e5,1e12)\n",
    "plt.xlabel(r'$E$ in [GeV]')\n",
    "\n",
    "plt.tight_layout()"
   ]
  },
  {
   "cell_type": "markdown",
   "metadata": {},
   "source": [
    "# Exact adiabatic solution:\n",
    "\n",
    "The adaibatic solution at $z = 0$ is simply calculated by integration of the injection:\n",
    "$$\n",
    "n(E, z = 0) = \\int_0^{z_{max}} dz^\\prime \\frac{1}{H(z^\\prime)} \\mathcal{L}_{inj}(\\epsilon (1 + z^\\prime), z^\\prime)\n",
    "$$\n",
    "\n",
    "This results should be retained by the solver that has only adiabatic losses enabled."
   ]
  },
  {
   "cell_type": "code",
   "execution_count": null,
   "metadata": {},
   "outputs": [],
   "source": [
    "%%time\n",
    "from prince.solvers import UHECRPropagationSolverEULER as SolClass\n",
    "from prince.cr_sources import SimpleSource\n",
    "\n",
    "initial_z = 1.\n",
    "final_z = 0.\n",
    "norm = 1.\n",
    "source = SimpleSource(prince_run,params={101: (2.5,1e12,1.)}, norm=1.,m=0.)\n",
    "\n",
    "sol_adiabatic = SolClass(initial_z=initial_z, final_z =final_z,prince_run=prince_run,\n",
    "                         enable_pairprod_losses = False,\n",
    "                         enable_adiabatic_losses = True,\n",
    "                         enable_photohad_losses = False,\n",
    "                        enable_partial_diff_jacobian=True)\n",
    "sol_adiabatic.add_source_class(source)\n",
    "\n",
    "sol_adiabatic.solve(dz=1e-3,verbose=False)"
   ]
  },
  {
   "cell_type": "code",
   "execution_count": null,
   "metadata": {},
   "outputs": [],
   "source": [
    "%%time\n",
    "\n",
    "source = SimpleSource(prince_run,params={101: (2.5,1e12,1.)}, norm=1.,m=0.)\n",
    "\n",
    "injection = source.injection_rate_single\n",
    "injection = np.vectorize(injection,excluded=[0])\n",
    "\n",
    "egrid = np.logspace(8,13,100)\n",
    "z_steps = np.linspace(0,5,100)\n",
    "\n",
    "from prince.cosmology import H\n",
    "from scipy.integrate import trapz\n",
    "\n",
    "einj = np.outer(egrid, 1 + z_steps)\n",
    "z_prime = np.outer(1, z_steps)\n",
    "inj = injection(101,einj, z_prime)\n",
    "H_factor = H(z_prime)\n",
    "\n",
    "spectrum = trapz(inj / H_factor, z_steps ,axis = 1)\n",
    "\n",
    "plt.loglog(egrid, egrid**3 * spectrum)\n",
    "\n",
    "energy, spectrum = sol_adiabatic.res.get_solution_scale(101,epow=3)\n",
    "plt.loglog(energy, spectrum, label=label, c=color, alpha = 0.6,ls='dashed')\n",
    "\n",
    "plt.xlim(1e8,1e13)\n",
    "plt.ylim(1e20,1e24)"
   ]
  },
  {
   "cell_type": "code",
   "execution_count": null,
   "metadata": {},
   "outputs": [],
   "source": []
  }
 ],
 "metadata": {
  "kernelspec": {
   "display_name": "Python 3",
   "language": "python",
   "name": "python3"
  },
  "language_info": {
   "codemirror_mode": {
    "name": "ipython",
    "version": 3
   },
   "file_extension": ".py",
   "mimetype": "text/x-python",
   "name": "python",
   "nbconvert_exporter": "python",
   "pygments_lexer": "ipython3",
   "version": "3.7.7"
  }
 },
 "nbformat": 4,
 "nbformat_minor": 4
}
