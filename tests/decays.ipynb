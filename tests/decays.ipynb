{
 "cells": [
  {
   "cell_type": "markdown",
   "metadata": {},
   "source": [
    "This notebook checks conservation laws in the `prince.decays` module"
   ]
  },
  {
   "cell_type": "code",
   "execution_count": null,
   "metadata": {},
   "outputs": [],
   "source": [
    "%load_ext autoreload\n",
    "%autoreload 2\n",
    "import numpy as np\n",
    "import matplotlib.pyplot as plt\n",
    "%matplotlib inline"
   ]
  },
  {
   "cell_type": "code",
   "execution_count": null,
   "metadata": {},
   "outputs": [],
   "source": [
    "from prince import decays\n",
    "from prince.core import PriNCeRun\n",
    "from prince_config import config"
   ]
  },
  {
   "cell_type": "code",
   "execution_count": null,
   "metadata": {},
   "outputs": [],
   "source": [
    "config['tau_dec_threshold'] = 0.\n",
    "prince_run = PriNCeRun(max_mass = 1)"
   ]
  },
  {
   "cell_type": "markdown",
   "metadata": {},
   "source": [
    "# Test decay distributions for conservation laws"
   ]
  },
  {
   "cell_type": "markdown",
   "metadata": {},
   "source": [
    "## First use a dense grid in $x=E_{da} / E_{mo}$"
   ]
  },
  {
   "cell_type": "code",
   "execution_count": null,
   "metadata": {},
   "outputs": [],
   "source": [
    "from scipy.integrate import trapz"
   ]
  },
  {
   "cell_type": "code",
   "execution_count": null,
   "metadata": {},
   "outputs": [],
   "source": [
    "xgrid = np.linspace(0,1,1000)"
   ]
  },
  {
   "cell_type": "markdown",
   "metadata": {},
   "source": [
    "### Pion decay into muon + muon-neutrino\n",
    "\n",
    "This is a simple two body decay, so the decay distribution is box shaped,\n",
    "with the lighter neutrino appearing at lower energies. "
   ]
  },
  {
   "cell_type": "code",
   "execution_count": null,
   "metadata": {},
   "outputs": [],
   "source": [
    "distr = decays.pion_to_muon(xgrid)\n",
    "plt.plot(xgrid,distr)\n",
    "print('pion to muon:')\n",
    "print('number', trapz(distr, xgrid))\n",
    "print('energy', trapz(xgrid * distr, xgrid))\n",
    "\n",
    "distr = decays.pion_to_numu(xgrid)\n",
    "plt.plot(xgrid,distr)\n",
    "print('pion to numu:')\n",
    "print('number', trapz(distr, xgrid))\n",
    "print('energy', trapz(xgrid * distr, xgrid))"
   ]
  },
  {
   "cell_type": "markdown",
   "metadata": {},
   "source": [
    "### muon decay for negative helicity\n",
    "\n",
    "This is a three body decay, which is also helicity suppressed. Therefore the distribution is more complicated\n",
    "\n",
    "The positron is currently not contained in the code"
   ]
  },
  {
   "cell_type": "code",
   "execution_count": null,
   "metadata": {},
   "outputs": [],
   "source": [
    "distr = decays.muonplus_to_nue(xgrid, -1)\n",
    "plt.plot(xgrid,distr)\n",
    "print('muon to nue:')\n",
    "print('number', trapz(distr, xgrid))\n",
    "print('energy', trapz(xgrid * distr, xgrid))\n",
    "\n",
    "distr = decays.muonplus_to_numubar(xgrid, -1)\n",
    "plt.plot(xgrid,distr)\n",
    "print('muon to numubar:')\n",
    "print('number', trapz(distr, xgrid))\n",
    "print('energy', trapz(xgrid * distr, xgrid))"
   ]
  },
  {
   "cell_type": "markdown",
   "metadata": {},
   "source": [
    "### muon decay for positive helicity\n",
    "\n",
    "This is a three body decay, which is also helicity suppressed. This looks different form the previous case due to helicity\n",
    "\n",
    "The positron is currently not contained in the code"
   ]
  },
  {
   "cell_type": "code",
   "execution_count": null,
   "metadata": {},
   "outputs": [],
   "source": [
    "distr = decays.muonplus_to_nue(xgrid, +1)\n",
    "plt.plot(xgrid,distr)\n",
    "print('muon to nue:')\n",
    "print('number', trapz(distr, xgrid))\n",
    "print('energy', trapz(xgrid * distr, xgrid))\n",
    "\n",
    "distr = decays.muonplus_to_numubar(xgrid, +1)\n",
    "plt.plot(xgrid,distr)\n",
    "print('muon to numubar:')\n",
    "print('number', trapz(distr, xgrid))\n",
    "print('energy', trapz(xgrid * distr, xgrid))"
   ]
  },
  {
   "cell_type": "markdown",
   "metadata": {},
   "source": [
    "### Neutrino from beta decay\n",
    "\n",
    "The electron is currently not contained in the code"
   ]
  },
  {
   "cell_type": "code",
   "execution_count": null,
   "metadata": {},
   "outputs": [],
   "source": [
    "xgrid = np.linspace(0,0.01,10000)\n",
    "xgrid = np.logspace(-12,-2,10000)\n",
    "distr = decays.nu_from_beta_decay(xgrid, 100,101)\n",
    "plt.semilogx(xgrid,distr)\n",
    "print('neutron beta decay:')\n",
    "print('number', trapz(distr, xgrid))\n",
    "print('energy', trapz(xgrid * distr, xgrid))"
   ]
  },
  {
   "cell_type": "markdown",
   "metadata": {},
   "source": [
    "## Secondly test on logarithmic grid from PriNCe run object\n",
    "\n",
    "These are the same tests as above, but comparing the precision for the logarithmic grid"
   ]
  },
  {
   "cell_type": "code",
   "execution_count": null,
   "metadata": {},
   "outputs": [],
   "source": [
    "ebins = prince_run.cr_grid.bins\n",
    "egrid = prince_run.cr_grid.grid\n",
    "widths = prince_run.cr_grid.widths\n",
    "\n",
    "xbins = ebins / np.max(egrid)\n",
    "xgrid = egrid / np.max(egrid)\n",
    "xwidths = widths / np.max(egrid)\n",
    "\n",
    "xbins_precision = np.logspace(-9,0,10000)"
   ]
  },
  {
   "cell_type": "code",
   "execution_count": null,
   "metadata": {},
   "outputs": [],
   "source": [
    "distr = decays.pion_to_muon(xgrid)\n",
    "plt.plot(xgrid,distr,color = 'seagreen')\n",
    "plt.scatter(xgrid,distr,color = 'seagreen')\n",
    "print('pion to muon:')\n",
    "print('number', np.sum(distr * xwidths))\n",
    "print('energy', np.sum(distr * xwidths * xgrid))\n",
    "\n",
    "print('with trapz')\n",
    "print('number', trapz(distr, xgrid))\n",
    "print('energy', trapz(xgrid * distr, xgrid))\n",
    "\n",
    "distr = decays.pion_to_muon(xbins)\n",
    "print('with trapz')\n",
    "print('number', trapz(distr, xbins))\n",
    "print('energy', trapz(xbins * distr, xbins))\n",
    "\n",
    "distr = decays.pion_to_muon(xbins_precision)\n",
    "plt.plot(xbins_precision,distr, color = 'seagreen', alpha = 0.3)\n",
    "print('with trapz, high bin number')\n",
    "print('number', trapz(distr, xbins_precision))\n",
    "print('energy', trapz(xbins_precision * distr, xbins_precision))\n",
    "\n",
    "print('--'*30)\n",
    "distr = decays.pion_to_numu(xgrid)\n",
    "plt.plot(xgrid,distr,color = 'tomato')\n",
    "plt.scatter(xgrid,distr,color = 'tomato')\n",
    "print('pion to numu:')\n",
    "print('number', np.sum(distr * xwidths))\n",
    "print('energy', np.sum(distr * xwidths * xgrid))\n",
    "\n",
    "distr = decays.pion_to_numu(xbins)\n",
    "print('with trapz')\n",
    "print('number', trapz(distr, xbins))\n",
    "print('energy', trapz(xbins * distr, xbins))\n",
    "\n",
    "\n",
    "distr = decays.pion_to_numu(xbins_precision)\n",
    "plt.plot(xbins_precision,distr,color = 'tomato', alpha = 0.3)\n",
    "print('with trapz, high bin number')\n",
    "print('number', trapz(distr, xbins_precision))\n",
    "print('energy', trapz(xbins_precision * distr, xbins_precision))\n",
    "\n",
    "\n",
    "print('--'*30)\n",
    "distr = decays.pion_to_muon_avg(xbins[:-1],xbins[1:])\n",
    "plt.plot(xgrid,distr,color = 'slateblue')\n",
    "plt.scatter(xgrid,distr,color = 'slateblue')\n",
    "print('pion to muon:')\n",
    "print('number', np.sum(distr * xwidths))\n",
    "print('energy', np.sum(distr * xwidths * xgrid))\n",
    "\n",
    "distr = decays.pion_to_numu_avg(xbins[:-1],xbins[1:])\n",
    "plt.plot(xgrid,distr,color = 'crimson')\n",
    "plt.scatter(xgrid,distr,color = 'crimson')\n",
    "print('pion to muon:')\n",
    "print('number', np.sum(distr * xwidths))\n",
    "print('energy', np.sum(distr * xwidths * xgrid))\n",
    "\n",
    "plt.ylim(-0.1,2.5)\n",
    "# for x in xbins:\n",
    "#     plt.axvline(x, alpha = 0.3)\n",
    "# plt.loglog()"
   ]
  },
  {
   "cell_type": "code",
   "execution_count": null,
   "metadata": {},
   "outputs": [],
   "source": [
    "distr = decays.muonplus_to_nue(xgrid, -1)\n",
    "plt.plot(xgrid,distr,color = 'seagreen')\n",
    "plt.scatter(xgrid,distr,color = 'seagreen')\n",
    "print('pion to muon:')\n",
    "print('number', np.sum(distr * xwidths))\n",
    "print('energy', np.sum(distr * xwidths * xgrid))\n",
    "\n",
    "print('with trapz')\n",
    "print('number', trapz(distr, xgrid))\n",
    "print('energy', trapz(xgrid * distr, xgrid))\n",
    "\n",
    "distr = decays.muonplus_to_nue(xbins, -1)\n",
    "print('with trapz')\n",
    "print('number', trapz(distr, xbins))\n",
    "print('energy', trapz(xbins * distr, xbins))\n",
    "\n",
    "distr = decays.muonplus_to_nue(xbins_precision, -1)\n",
    "plt.plot(xbins_precision,distr, color = 'seagreen', alpha = 0.3)\n",
    "print('with trapz, high bin number')\n",
    "print('number', trapz(distr, xbins_precision))\n",
    "print('energy', trapz(xbins_precision * distr, xbins_precision))\n",
    "\n",
    "print('--'*30)\n",
    "distr = decays.muonplus_to_numubar(xgrid, -1)\n",
    "plt.plot(xgrid,distr,color = 'tomato')\n",
    "plt.scatter(xgrid,distr,color = 'tomato')\n",
    "print('pion to numu:')\n",
    "print('number', np.sum(distr * xwidths))\n",
    "print('energy', np.sum(distr * xwidths * xgrid))\n",
    "\n",
    "distr = decays.muonplus_to_numubar(xbins, -1)\n",
    "print('with trapz')\n",
    "print('number', trapz(distr, xbins))\n",
    "print('energy', trapz(xbins * distr, xbins))\n",
    "\n",
    "\n",
    "distr = decays.muonplus_to_numubar(xbins_precision, -1)\n",
    "plt.plot(xbins_precision,distr,color = 'tomato', alpha = 0.3)\n",
    "print('with trapz, high bin number')\n",
    "print('number', trapz(distr, xbins_precision))\n",
    "print('energy', trapz(xbins_precision * distr, xbins_precision))\n"
   ]
  },
  {
   "cell_type": "code",
   "execution_count": null,
   "metadata": {},
   "outputs": [],
   "source": [
    "distr = decays.muonplus_to_nue(xgrid, 1)\n",
    "plt.plot(xgrid,distr,color = 'seagreen')\n",
    "plt.scatter(xgrid,distr,color = 'seagreen')\n",
    "print('pion to muon:')\n",
    "print('number', np.sum(distr * xwidths))\n",
    "print('energy', np.sum(distr * xwidths * xgrid))\n",
    "\n",
    "distr = decays.muonplus_to_nue(xbins, 1)\n",
    "print('with trapz')\n",
    "print('number', trapz(distr, xbins))\n",
    "print('energy', trapz(xbins * distr, xbins))\n",
    "\n",
    "distr = decays.muonplus_to_nue(xbins_precision, 1)\n",
    "plt.plot(xbins_precision,distr, color = 'seagreen', alpha = 0.3)\n",
    "print('with trapz, high bin number')\n",
    "print('number', trapz(distr, xbins_precision))\n",
    "print('energy', trapz(xbins_precision * distr, xbins_precision))\n",
    "\n",
    "print('--'*30)\n",
    "distr = decays.muonplus_to_numubar(xgrid, 1)\n",
    "plt.plot(xgrid,distr,color = 'tomato')\n",
    "plt.scatter(xgrid,distr,color = 'tomato')\n",
    "print('pion to numu:')\n",
    "print('number', np.sum(distr * xwidths))\n",
    "print('energy', np.sum(distr * xwidths * xgrid))\n",
    "\n",
    "distr = decays.muonplus_to_numubar(xbins, 1)\n",
    "print('with trapz')\n",
    "print('number', trapz(distr, xbins))\n",
    "print('energy', trapz(xbins * distr, xbins))\n",
    "\n",
    "\n",
    "distr = decays.muonplus_to_numubar(xbins_precision, 1)\n",
    "plt.plot(xbins_precision,distr,color = 'tomato', alpha = 0.3)\n",
    "print('with trapz, high bin number')\n",
    "print('number', trapz(distr, xbins_precision))\n",
    "print('energy', trapz(xbins_precision * distr, xbins_precision))\n"
   ]
  },
  {
   "cell_type": "code",
   "execution_count": null,
   "metadata": {},
   "outputs": [],
   "source": [
    "distr = decays.nu_from_beta_decay(xgrid, 100,101)\n",
    "plt.semilogx(xgrid,distr,color = 'seagreen')\n",
    "plt.scatter(xgrid,distr,color = 'seagreen')\n",
    "print('pion to muon:')\n",
    "print('number', np.sum(distr * xwidths))\n",
    "print('energy', np.sum(distr * xwidths * xgrid))\n",
    "\n",
    "distr = decays.nu_from_beta_decay(xbins, 100,101)\n",
    "print('with trapz')\n",
    "print('number', trapz(distr, xbins))\n",
    "print('energy', trapz(xbins * distr, xbins))\n",
    "\n",
    "distr = decays.nu_from_beta_decay(xbins_precision, 100,101)\n",
    "plt.semilogx(xbins_precision,distr, color = 'seagreen', alpha = 0.3)\n",
    "print('with trapz, high bin number')\n",
    "print('number', trapz(distr, xbins_precision))\n",
    "print('energy', trapz(xbins_precision * distr, xbins_precision))\n"
   ]
  }
 ],
 "metadata": {
  "kernelspec": {
   "display_name": "Python 3",
   "language": "python",
   "name": "python3"
  },
  "language_info": {
   "codemirror_mode": {
    "name": "ipython",
    "version": 3
   },
   "file_extension": ".py",
   "mimetype": "text/x-python",
   "name": "python",
   "nbconvert_exporter": "python",
   "pygments_lexer": "ipython3",
   "version": "3.7.7"
  }
 },
 "nbformat": 4,
 "nbformat_minor": 4
}
