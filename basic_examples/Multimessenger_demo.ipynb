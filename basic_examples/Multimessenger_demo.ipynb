{
 "cells": [
  {
   "cell_type": "code",
   "execution_count": 1,
   "metadata": {},
   "outputs": [],
   "source": [
    "%load_ext autoreload\n",
    "%autoreload 2"
   ]
  },
  {
   "cell_type": "code",
   "execution_count": 2,
   "metadata": {},
   "outputs": [],
   "source": [
    "import os\n",
    "import numpy as np\n",
    "import scipy as sc\n",
    "import matplotlib.pyplot as plt\n",
    "import matplotlib as mpl\n",
    "import pickle as pickle"
   ]
  },
  {
   "cell_type": "code",
   "execution_count": 3,
   "metadata": {},
   "outputs": [],
   "source": [
    "import prince_cr.config\n",
    "from prince_cr import core, util, photonfields, cross_sections\n",
    "from prince_cr import util as pru"
   ]
  },
  {
   "cell_type": "markdown",
   "metadata": {},
   "source": [
    "# Setup PrinceRun object"
   ]
  },
  {
   "cell_type": "markdown",
   "metadata": {},
   "source": [
    "Before you create the kernel, you can change options in the config.  \n",
    "See `prince/config.py` for a full list of options"
   ]
  },
  {
   "cell_type": "code",
   "execution_count": 4,
   "metadata": {},
   "outputs": [],
   "source": [
    "prince_cr.config.x_cut = 1e-4\n",
    "prince_cr.config.x_cut_proton = 1e-2\n",
    "prince_cr.config.tau_dec_threshold = np.inf"
   ]
  },
  {
   "cell_type": "markdown",
   "metadata": {},
   "source": [
    "### Now create the objects:\n",
    "- Photonfield class\n",
    "- Cross section class\n",
    "- PriNCe core class, that will contain the cross section kernel\n",
    "\n",
    "(The latter two take some time)\n",
    "\n",
    "Note that TabulatedCrossSection will look for data in the database stored in `./prince/data/prince_db_05`"
   ]
  },
  {
   "cell_type": "markdown",
   "metadata": {},
   "source": [
    "#### Photon field class\n",
    "\n",
    "This is a combined photon field of CMB and Gilmore et al. EBL  \n",
    "See classes in `prince/photonfields.py` for different options"
   ]
  },
  {
   "cell_type": "code",
   "execution_count": 5,
   "metadata": {},
   "outputs": [
    {
     "name": "stdout",
     "output_type": "stream",
     "text": [
      "CPU times: user 0 ns, sys: 1.56 ms, total: 1.56 ms\n",
      "Wall time: 2.59 ms\n"
     ]
    }
   ],
   "source": [
    "%%time\n",
    "pf = photonfields.CombinedPhotonField(\n",
    "                [photonfields.CMBPhotonSpectrum, \n",
    "                 photonfields.CIBGilmore2D])"
   ]
  },
  {
   "cell_type": "markdown",
   "metadata": {},
   "source": [
    "#### Cross section class"
   ]
  },
  {
   "cell_type": "markdown",
   "metadata": {},
   "source": [
    "This is a combined cross section of `Talys` as low energy the `Sophia` superposition model at high energies\n",
    "See classes in `prince/cross_sections.py` for different options"
   ]
  },
  {
   "cell_type": "code",
   "execution_count": 6,
   "metadata": {},
   "outputs": [
    {
     "name": "stdout",
     "output_type": "stream",
     "text": [
      "CompositeCrossSection::_join_models(): Attempt to join 2 models.\n"
     ]
    }
   ],
   "source": [
    "cs = cross_sections.CompositeCrossSection(\n",
    "    [\n",
    "        (0.0, cross_sections.TabulatedCrossSection, (\"PSB\",)),\n",
    "        (0.14, cross_sections.SophiaSuperposition, ()),\n",
    "    ]\n",
    ")"
   ]
  },
  {
   "cell_type": "markdown",
   "metadata": {},
   "source": [
    "#### Prince_run kernel"
   ]
  },
  {
   "cell_type": "markdown",
   "metadata": {},
   "source": [
    "The `inclusive interpolator not found` warnings can be ignored. They tell that in the final state of the first tuple member are no secondaries of the same mass. This can be understood as an elastic process."
   ]
  },
  {
   "cell_type": "code",
   "execution_count": 7,
   "metadata": {},
   "outputs": [
    {
     "name": "stdout",
     "output_type": "stream",
     "text": [
      "PriNCeRun::__init__(): initialising Energy grid\n",
      "PhotoNuclearInteractionRate::_init_matrices(): Inclusive interpolator not found for (np.int32(5626), np.int32(5626))\n",
      "PhotoNuclearInteractionRate::_init_matrices(): Inclusive interpolator not found for (np.int32(5525), np.int32(5525))\n",
      "PhotoNuclearInteractionRate::_init_matrices(): Inclusive interpolator not found for (np.int32(5424), np.int32(5424))\n",
      "PhotoNuclearInteractionRate::_init_matrices(): Inclusive interpolator not found for (np.int32(5324), np.int32(5324))\n",
      "PhotoNuclearInteractionRate::_init_matrices(): Inclusive interpolator not found for (np.int32(5224), np.int32(5224))\n",
      "PhotoNuclearInteractionRate::_init_matrices(): Inclusive interpolator not found for (np.int32(5123), np.int32(5123))\n",
      "PhotoNuclearInteractionRate::_init_matrices(): Inclusive interpolator not found for (np.int32(5023), np.int32(5023))\n",
      "PhotoNuclearInteractionRate::_init_matrices(): Inclusive interpolator not found for (np.int32(4922), np.int32(4922))\n",
      "PhotoNuclearInteractionRate::_init_matrices(): Inclusive interpolator not found for (np.int32(4822), np.int32(4822))\n",
      "PhotoNuclearInteractionRate::_init_matrices(): Inclusive interpolator not found for (np.int32(4722), np.int32(4722))\n",
      "PhotoNuclearInteractionRate::_init_matrices(): Inclusive interpolator not found for (np.int32(4622), np.int32(4622))\n",
      "PhotoNuclearInteractionRate::_init_matrices(): Inclusive interpolator not found for (np.int32(4521), np.int32(4521))\n",
      "PhotoNuclearInteractionRate::_init_matrices(): Inclusive interpolator not found for (np.int32(4420), np.int32(4420))\n",
      "PhotoNuclearInteractionRate::_init_matrices(): Inclusive interpolator not found for (np.int32(4320), np.int32(4320))\n",
      "PhotoNuclearInteractionRate::_init_matrices(): Inclusive interpolator not found for (np.int32(4220), np.int32(4220))\n",
      "PhotoNuclearInteractionRate::_init_matrices(): Inclusive interpolator not found for (np.int32(4119), np.int32(4119))\n",
      "PhotoNuclearInteractionRate::_init_matrices(): Inclusive interpolator not found for (np.int32(4019), np.int32(4019))\n",
      "PhotoNuclearInteractionRate::_init_matrices(): Inclusive interpolator not found for (np.int32(3919), np.int32(3919))\n",
      "PhotoNuclearInteractionRate::_init_matrices(): Inclusive interpolator not found for (np.int32(3818), np.int32(3818))\n",
      "PhotoNuclearInteractionRate::_init_matrices(): Inclusive interpolator not found for (np.int32(3718), np.int32(3718))\n",
      "PhotoNuclearInteractionRate::_init_matrices(): Inclusive interpolator not found for (np.int32(3618), np.int32(3618))\n",
      "PhotoNuclearInteractionRate::_init_matrices(): Inclusive interpolator not found for (np.int32(3517), np.int32(3517))\n",
      "PhotoNuclearInteractionRate::_init_matrices(): Inclusive interpolator not found for (np.int32(3416), np.int32(3416))\n",
      "PhotoNuclearInteractionRate::_init_matrices(): Inclusive interpolator not found for (np.int32(3316), np.int32(3316))\n",
      "PhotoNuclearInteractionRate::_init_matrices(): Inclusive interpolator not found for (np.int32(3216), np.int32(3216))\n",
      "PhotoNuclearInteractionRate::_init_matrices(): Inclusive interpolator not found for (np.int32(3115), np.int32(3115))\n",
      "PhotoNuclearInteractionRate::_init_matrices(): Inclusive interpolator not found for (np.int32(3014), np.int32(3014))\n",
      "PhotoNuclearInteractionRate::_init_matrices(): Inclusive interpolator not found for (np.int32(2914), np.int32(2914))\n",
      "PhotoNuclearInteractionRate::_init_matrices(): Inclusive interpolator not found for (np.int32(2814), np.int32(2814))\n",
      "PhotoNuclearInteractionRate::_init_matrices(): Inclusive interpolator not found for (np.int32(2713), np.int32(2713))\n",
      "PhotoNuclearInteractionRate::_init_matrices(): Inclusive interpolator not found for (np.int32(2612), np.int32(2612))\n",
      "PhotoNuclearInteractionRate::_init_matrices(): Inclusive interpolator not found for (np.int32(2512), np.int32(2512))\n",
      "PhotoNuclearInteractionRate::_init_matrices(): Inclusive interpolator not found for (np.int32(2412), np.int32(2412))\n",
      "PhotoNuclearInteractionRate::_init_matrices(): Inclusive interpolator not found for (np.int32(2311), np.int32(2311))\n",
      "PhotoNuclearInteractionRate::_init_matrices(): Inclusive interpolator not found for (np.int32(2210), np.int32(2210))\n",
      "PhotoNuclearInteractionRate::_init_matrices(): Inclusive interpolator not found for (np.int32(2110), np.int32(2110))\n",
      "PhotoNuclearInteractionRate::_init_matrices(): Inclusive interpolator not found for (np.int32(2010), np.int32(2010))\n",
      "PhotoNuclearInteractionRate::_init_matrices(): Inclusive interpolator not found for (np.int32(1909), np.int32(1909))\n",
      "PhotoNuclearInteractionRate::_init_matrices(): Inclusive interpolator not found for (np.int32(1808), np.int32(1808))\n",
      "PhotoNuclearInteractionRate::_init_matrices(): Inclusive interpolator not found for (np.int32(1708), np.int32(1708))\n",
      "PhotoNuclearInteractionRate::_init_matrices(): Inclusive interpolator not found for (np.int32(1608), np.int32(1608))\n",
      "PhotoNuclearInteractionRate::_init_matrices(): Inclusive interpolator not found for (np.int32(1507), np.int32(1507))\n",
      "PhotoNuclearInteractionRate::_init_matrices(): Inclusive interpolator not found for (np.int32(1407), np.int32(1407))\n",
      "PhotoNuclearInteractionRate::_init_matrices(): Inclusive interpolator not found for (np.int32(1306), np.int32(1306))\n",
      "PhotoNuclearInteractionRate::_init_matrices(): Inclusive interpolator not found for (np.int32(1206), np.int32(1206))\n",
      "PhotoNuclearInteractionRate::_init_matrices(): Inclusive interpolator not found for (np.int32(1105), np.int32(1105))\n",
      "PhotoNuclearInteractionRate::_init_matrices(): Inclusive interpolator not found for (np.int32(1005), np.int32(1005))\n",
      "PhotoNuclearInteractionRate::_init_matrices(): Inclusive interpolator not found for (np.int32(904), np.int32(904))\n",
      "PhotoNuclearInteractionRate::_init_matrices(): Inclusive interpolator not found for (np.int32(402), np.int32(402))\n",
      "PhotoNuclearInteractionRate::_init_matrices(): Inclusive interpolator not found for (np.int32(302), np.int32(302))\n",
      "PhotoNuclearInteractionRate::_init_matrices(): Inclusive interpolator not found for (np.int32(201), np.int32(201))\n",
      "PhotoNuclearInteractionRate::_init_coupling_mat(): Initiating coupling matrix in (CSR) format\n",
      "CPU times: user 31.7 s, sys: 544 ms, total: 32.3 s\n",
      "Wall time: 32 s\n"
     ]
    }
   ],
   "source": [
    "%%time\n",
    "prince_run_talys = core.PriNCeRun(max_mass = 56, photon_field=pf, cross_sections=cs)"
   ]
  },
  {
   "cell_type": "markdown",
   "metadata": {},
   "source": [
    "# Run a solver using the loaded kernel"
   ]
  },
  {
   "cell_type": "markdown",
   "metadata": {},
   "source": [
    "**Note:** We use a backward differentiation solver (BDF) here (`UHECRPropagationSolverBDF`)  \n",
    "There are other options in `prince/solvers`, however these are not robustly tested.  \n",
    "**So when in doubt use BDF**"
   ]
  },
  {
   "cell_type": "code",
   "execution_count": 8,
   "metadata": {},
   "outputs": [],
   "source": [
    "from prince_cr.solvers import UHECRPropagationSolverBDF\n",
    "from prince_cr.cr_sources import AugerFitSource, RigdityCutoffSource"
   ]
  },
  {
   "cell_type": "markdown",
   "metadata": {},
   "source": [
    "**Step 1:** Initiate solver class"
   ]
  },
  {
   "cell_type": "code",
   "execution_count": 16,
   "metadata": {},
   "outputs": [],
   "source": [
    "solver = UHECRPropagationSolverBDF(\n",
    "    initial_z=1.0,\n",
    "    final_z=0.0,\n",
    "    prince_run=prince_run_talys,\n",
    "    enable_pairprod_losses=True,\n",
    "    enable_adiabatic_losses=True,\n",
    "    enable_injection_jacobian=True,\n",
    "    enable_partial_diff_jacobian=True,\n",
    ")"
   ]
  },
  {
   "cell_type": "markdown",
   "metadata": {},
   "source": [
    "**Step 2:** Create a source class and add it to the solver\n",
    "\n",
    "**Note:** There are more source classes defined in `prince/sources.py`"
   ]
  },
  {
   "cell_type": "code",
   "execution_count": 17,
   "metadata": {},
   "outputs": [],
   "source": [
    "rmax = 10**9.68\n",
    "gamma = 0.96\n",
    "total_norm = 1e-50\n",
    "\n",
    "f_hydrogen = 0.0\n",
    "f_helium = 67.3\n",
    "f_nitrogen = 28.1\n",
    "f_silicon = 4.6\n",
    "f_iron = 0.0\n",
    "\n",
    "# NOTE: You can add as much as you want here.\n",
    "# you can also add several source classes. But that will be slower, if there are many\n",
    "solver.add_source_class(\n",
    "    AugerFitSource(\n",
    "        prince_run_talys,\n",
    "        norm=total_norm,\n",
    "        params={\n",
    "            101: (gamma, rmax, f_hydrogen),\n",
    "            402: (gamma, rmax, f_helium),\n",
    "            1407: (gamma, rmax, f_nitrogen),\n",
    "            2814: (gamma, rmax, f_silicon),\n",
    "            5626: (gamma, rmax, f_iron),\n",
    "        },\n",
    "    )\n",
    ")"
   ]
  },
  {
   "cell_type": "markdown",
   "metadata": {},
   "source": [
    "**Note:** We add here only one source, but one could in principle add any number of sources here  \n",
    "(For a large number of different source classes, the solver will get slow)"
   ]
  },
  {
   "cell_type": "markdown",
   "metadata": {},
   "source": [
    "**Step 3:** Run the solver"
   ]
  },
  {
   "cell_type": "code",
   "execution_count": 18,
   "metadata": {},
   "outputs": [
    {
     "ename": "ValueError",
     "evalue": "matmul: Input operand 0 does not have enough dimensions (has 0, gufunc core with signature (n?,k),(k,m?)->(n?,m?) requires 1)",
     "output_type": "error",
     "traceback": [
      "\u001b[0;31m---------------------------------------------------------------------------\u001b[0m",
      "\u001b[0;31mValueError\u001b[0m                                Traceback (most recent call last)",
      "File \u001b[0;32m<timed eval>:1\u001b[0m\n",
      "File \u001b[0;32m~/devel/PriNCe/src/prince_cr/solvers/propagation.py:549\u001b[0m, in \u001b[0;36mUHECRPropagationSolverBDF.solve\u001b[0;34m(self, dz, verbose, summary, extended_output, full_reset, progressbar)\u001b[0m\n\u001b[1;32m    546\u001b[0m start_time \u001b[38;5;241m=\u001b[39m time()\n\u001b[1;32m    548\u001b[0m info(\u001b[38;5;241m2\u001b[39m, \u001b[38;5;124m\"\u001b[39m\u001b[38;5;124mSetting up Solver\u001b[39m\u001b[38;5;124m\"\u001b[39m)\n\u001b[0;32m--> 549\u001b[0m \u001b[38;5;28;43mself\u001b[39;49m\u001b[38;5;241;43m.\u001b[39;49m\u001b[43m_init_solver\u001b[49m\u001b[43m(\u001b[49m\u001b[43mdz\u001b[49m\u001b[43m)\u001b[49m\n\u001b[1;32m    550\u001b[0m info(\u001b[38;5;241m2\u001b[39m, \u001b[38;5;124m\"\u001b[39m\u001b[38;5;124mSolver initialized in \u001b[39m\u001b[38;5;132;01m{0}\u001b[39;00m\u001b[38;5;124m s\u001b[39m\u001b[38;5;124m\"\u001b[39m\u001b[38;5;241m.\u001b[39mformat(time() \u001b[38;5;241m-\u001b[39m start_time))\n\u001b[1;32m    552\u001b[0m info(\u001b[38;5;241m2\u001b[39m, \u001b[38;5;124m\"\u001b[39m\u001b[38;5;124mStarting integration.\u001b[39m\u001b[38;5;124m\"\u001b[39m)\n",
      "File \u001b[0;32m~/devel/PriNCe/src/prince_cr/solvers/propagation.py:518\u001b[0m, in \u001b[0;36mUHECRPropagationSolverBDF._init_solver\u001b[0;34m(self, dz)\u001b[0m\n\u001b[1;32m    514\u001b[0m     sparsity \u001b[38;5;241m=\u001b[39m \u001b[38;5;28mself\u001b[39m\u001b[38;5;241m.\u001b[39mhad_int_rates\u001b[38;5;241m.\u001b[39mget_hadr_jacobian(\u001b[38;5;28mself\u001b[39m\u001b[38;5;241m.\u001b[39minitial_z, \u001b[38;5;241m1.0\u001b[39m)\n\u001b[1;32m    516\u001b[0m \u001b[38;5;28;01mfrom\u001b[39;00m \u001b[38;5;21;01mprince_cr\u001b[39;00m\u001b[38;5;21;01m.\u001b[39;00m\u001b[38;5;21;01mutil\u001b[39;00m \u001b[38;5;28;01mimport\u001b[39;00m PrinceBDF\n\u001b[0;32m--> 518\u001b[0m \u001b[38;5;28mself\u001b[39m\u001b[38;5;241m.\u001b[39mr \u001b[38;5;241m=\u001b[39m \u001b[43mPrinceBDF\u001b[49m\u001b[43m(\u001b[49m\n\u001b[1;32m    519\u001b[0m \u001b[43m    \u001b[49m\u001b[38;5;28;43mself\u001b[39;49m\u001b[38;5;241;43m.\u001b[39;49m\u001b[43meqn_derivative\u001b[49m\u001b[43m,\u001b[49m\n\u001b[1;32m    520\u001b[0m \u001b[43m    \u001b[49m\u001b[38;5;28;43mself\u001b[39;49m\u001b[38;5;241;43m.\u001b[39;49m\u001b[43minitial_z\u001b[49m\u001b[43m,\u001b[49m\n\u001b[1;32m    521\u001b[0m \u001b[43m    \u001b[49m\u001b[43minitial_state\u001b[49m\u001b[43m,\u001b[49m\n\u001b[1;32m    522\u001b[0m \u001b[43m    \u001b[49m\u001b[38;5;28;43mself\u001b[39;49m\u001b[38;5;241;43m.\u001b[39;49m\u001b[43mfinal_z\u001b[49m\u001b[43m,\u001b[49m\n\u001b[1;32m    523\u001b[0m \u001b[43m    \u001b[49m\u001b[43mmax_step\u001b[49m\u001b[38;5;241;43m=\u001b[39;49m\u001b[43mnp\u001b[49m\u001b[38;5;241;43m.\u001b[39;49m\u001b[43mabs\u001b[49m\u001b[43m(\u001b[49m\u001b[43mdz\u001b[49m\u001b[43m)\u001b[49m\u001b[43m,\u001b[49m\n\u001b[1;32m    524\u001b[0m \u001b[43m    \u001b[49m\u001b[43matol\u001b[49m\u001b[38;5;241;43m=\u001b[39;49m\u001b[38;5;28;43mself\u001b[39;49m\u001b[38;5;241;43m.\u001b[39;49m\u001b[43matol\u001b[49m\u001b[43m,\u001b[49m\n\u001b[1;32m    525\u001b[0m \u001b[43m    \u001b[49m\u001b[43mrtol\u001b[49m\u001b[38;5;241;43m=\u001b[39;49m\u001b[38;5;28;43mself\u001b[39;49m\u001b[38;5;241;43m.\u001b[39;49m\u001b[43mrtol\u001b[49m\u001b[43m,\u001b[49m\n\u001b[1;32m    526\u001b[0m \u001b[43m    \u001b[49m\u001b[38;5;66;43;03m#  jac = self.eqn_jac,\u001b[39;49;00m\n\u001b[1;32m    527\u001b[0m \u001b[43m    \u001b[49m\u001b[43mjac_sparsity\u001b[49m\u001b[38;5;241;43m=\u001b[39;49m\u001b[43msparsity\u001b[49m\u001b[43m,\u001b[49m\n\u001b[1;32m    528\u001b[0m \u001b[43m    \u001b[49m\u001b[43mvectorized\u001b[49m\u001b[38;5;241;43m=\u001b[39;49m\u001b[38;5;28;43;01mTrue\u001b[39;49;00m\u001b[43m,\u001b[49m\n\u001b[1;32m    529\u001b[0m \u001b[43m\u001b[49m\u001b[43m)\u001b[49m\n",
      "File \u001b[0;32m~/py312sys/lib/python3.12/site-packages/scipy/integrate/_ivp/bdf.py:205\u001b[0m, in \u001b[0;36mBDF.__init__\u001b[0;34m(self, fun, t0, y0, t_bound, max_step, rtol, atol, jac, jac_sparsity, vectorized, first_step, **extraneous)\u001b[0m\n\u001b[1;32m    203\u001b[0m \u001b[38;5;28mself\u001b[39m\u001b[38;5;241m.\u001b[39mmax_step \u001b[38;5;241m=\u001b[39m validate_max_step(max_step)\n\u001b[1;32m    204\u001b[0m \u001b[38;5;28mself\u001b[39m\u001b[38;5;241m.\u001b[39mrtol, \u001b[38;5;28mself\u001b[39m\u001b[38;5;241m.\u001b[39matol \u001b[38;5;241m=\u001b[39m validate_tol(rtol, atol, \u001b[38;5;28mself\u001b[39m\u001b[38;5;241m.\u001b[39mn)\n\u001b[0;32m--> 205\u001b[0m f \u001b[38;5;241m=\u001b[39m \u001b[38;5;28;43mself\u001b[39;49m\u001b[38;5;241;43m.\u001b[39;49m\u001b[43mfun\u001b[49m\u001b[43m(\u001b[49m\u001b[38;5;28;43mself\u001b[39;49m\u001b[38;5;241;43m.\u001b[39;49m\u001b[43mt\u001b[49m\u001b[43m,\u001b[49m\u001b[43m \u001b[49m\u001b[38;5;28;43mself\u001b[39;49m\u001b[38;5;241;43m.\u001b[39;49m\u001b[43my\u001b[49m\u001b[43m)\u001b[49m\n\u001b[1;32m    206\u001b[0m \u001b[38;5;28;01mif\u001b[39;00m first_step \u001b[38;5;129;01mis\u001b[39;00m \u001b[38;5;28;01mNone\u001b[39;00m:\n\u001b[1;32m    207\u001b[0m     \u001b[38;5;28mself\u001b[39m\u001b[38;5;241m.\u001b[39mh_abs \u001b[38;5;241m=\u001b[39m select_initial_step(\u001b[38;5;28mself\u001b[39m\u001b[38;5;241m.\u001b[39mfun, \u001b[38;5;28mself\u001b[39m\u001b[38;5;241m.\u001b[39mt, \u001b[38;5;28mself\u001b[39m\u001b[38;5;241m.\u001b[39my, \n\u001b[1;32m    208\u001b[0m                                      t_bound, max_step, f,\n\u001b[1;32m    209\u001b[0m                                      \u001b[38;5;28mself\u001b[39m\u001b[38;5;241m.\u001b[39mdirection, \u001b[38;5;241m1\u001b[39m,\n\u001b[1;32m    210\u001b[0m                                      \u001b[38;5;28mself\u001b[39m\u001b[38;5;241m.\u001b[39mrtol, \u001b[38;5;28mself\u001b[39m\u001b[38;5;241m.\u001b[39matol)\n",
      "File \u001b[0;32m~/py312sys/lib/python3.12/site-packages/scipy/integrate/_ivp/base.py:154\u001b[0m, in \u001b[0;36mOdeSolver.__init__.<locals>.fun\u001b[0;34m(t, y)\u001b[0m\n\u001b[1;32m    152\u001b[0m \u001b[38;5;28;01mdef\u001b[39;00m \u001b[38;5;21mfun\u001b[39m(t, y):\n\u001b[1;32m    153\u001b[0m     \u001b[38;5;28mself\u001b[39m\u001b[38;5;241m.\u001b[39mnfev \u001b[38;5;241m+\u001b[39m\u001b[38;5;241m=\u001b[39m \u001b[38;5;241m1\u001b[39m\n\u001b[0;32m--> 154\u001b[0m     \u001b[38;5;28;01mreturn\u001b[39;00m \u001b[38;5;28;43mself\u001b[39;49m\u001b[38;5;241;43m.\u001b[39;49m\u001b[43mfun_single\u001b[49m\u001b[43m(\u001b[49m\u001b[43mt\u001b[49m\u001b[43m,\u001b[49m\u001b[43m \u001b[49m\u001b[43my\u001b[49m\u001b[43m)\u001b[49m\n",
      "File \u001b[0;32m~/py312sys/lib/python3.12/site-packages/scipy/integrate/_ivp/base.py:141\u001b[0m, in \u001b[0;36mOdeSolver.__init__.<locals>.fun_single\u001b[0;34m(t, y)\u001b[0m\n\u001b[1;32m    140\u001b[0m \u001b[38;5;28;01mdef\u001b[39;00m \u001b[38;5;21mfun_single\u001b[39m(t, y):\n\u001b[0;32m--> 141\u001b[0m     \u001b[38;5;28;01mreturn\u001b[39;00m \u001b[38;5;28;43mself\u001b[39;49m\u001b[38;5;241;43m.\u001b[39;49m\u001b[43m_fun\u001b[49m\u001b[43m(\u001b[49m\u001b[43mt\u001b[49m\u001b[43m,\u001b[49m\u001b[43m \u001b[49m\u001b[43my\u001b[49m\u001b[43m[\u001b[49m\u001b[43m:\u001b[49m\u001b[43m,\u001b[49m\u001b[43m \u001b[49m\u001b[38;5;28;43;01mNone\u001b[39;49;00m\u001b[43m]\u001b[49m\u001b[43m)\u001b[49m\u001b[38;5;241m.\u001b[39mravel()\n",
      "File \u001b[0;32m~/py312sys/lib/python3.12/site-packages/scipy/integrate/_ivp/base.py:23\u001b[0m, in \u001b[0;36mcheck_arguments.<locals>.fun_wrapped\u001b[0;34m(t, y)\u001b[0m\n\u001b[1;32m     22\u001b[0m \u001b[38;5;28;01mdef\u001b[39;00m \u001b[38;5;21mfun_wrapped\u001b[39m(t, y):\n\u001b[0;32m---> 23\u001b[0m     \u001b[38;5;28;01mreturn\u001b[39;00m np\u001b[38;5;241m.\u001b[39masarray(\u001b[43mfun\u001b[49m\u001b[43m(\u001b[49m\u001b[43mt\u001b[49m\u001b[43m,\u001b[49m\u001b[43m \u001b[49m\u001b[43my\u001b[49m\u001b[43m)\u001b[49m, dtype\u001b[38;5;241m=\u001b[39mdtype)\n",
      "File \u001b[0;32m~/devel/PriNCe/src/prince_cr/solvers/propagation.py:397\u001b[0m, in \u001b[0;36mUHECRPropagationSolver.eqn_deriv_standard\u001b[0;34m(self, z, state, *args)\u001b[0m\n\u001b[1;32m    394\u001b[0m     \u001b[38;5;28mself\u001b[39m\u001b[38;5;241m.\u001b[39m_update_jacobian(z)\n\u001b[1;32m    395\u001b[0m     \u001b[38;5;28mself\u001b[39m\u001b[38;5;241m.\u001b[39mcurrent_z_rates \u001b[38;5;241m=\u001b[39m z\n\u001b[0;32m--> 397\u001b[0m r \u001b[38;5;241m=\u001b[39m \u001b[38;5;28;43mself\u001b[39;49m\u001b[38;5;241;43m.\u001b[39;49m\u001b[43mjacobian\u001b[49m\u001b[38;5;241;43m.\u001b[39;49m\u001b[43mdot\u001b[49m\u001b[43m(\u001b[49m\u001b[43mstate\u001b[49m\u001b[43m)\u001b[49m\n\u001b[1;32m    399\u001b[0m \u001b[38;5;28;01mif\u001b[39;00m \u001b[38;5;28mself\u001b[39m\u001b[38;5;241m.\u001b[39menable_injection_jacobian:\n\u001b[1;32m    400\u001b[0m     r \u001b[38;5;241m+\u001b[39m\u001b[38;5;241m=\u001b[39m \u001b[38;5;28mself\u001b[39m\u001b[38;5;241m.\u001b[39minjection(\u001b[38;5;241m1.0\u001b[39m, z)[:, np\u001b[38;5;241m.\u001b[39mnewaxis]\n",
      "File \u001b[0;32m~/py312sys/lib/python3.12/site-packages/cupyx/scipy/sparse/_base.py:341\u001b[0m, in \u001b[0;36mspmatrix.dot\u001b[0;34m(self, other)\u001b[0m\n\u001b[1;32m    339\u001b[0m     \u001b[38;5;28;01mreturn\u001b[39;00m \u001b[38;5;28mself\u001b[39m \u001b[38;5;241m*\u001b[39m other\n\u001b[1;32m    340\u001b[0m \u001b[38;5;28;01melse\u001b[39;00m:\n\u001b[0;32m--> 341\u001b[0m     \u001b[38;5;28;01mreturn\u001b[39;00m \u001b[38;5;28;43mself\u001b[39;49m\u001b[43m \u001b[49m\u001b[38;5;241;43m@\u001b[39;49m\u001b[43m \u001b[49m\u001b[43mother\u001b[49m\n",
      "\u001b[0;31mValueError\u001b[0m: matmul: Input operand 0 does not have enough dimensions (has 0, gufunc core with signature (n?,k),(k,m?)->(n?,m?) requires 1)"
     ]
    }
   ],
   "source": [
    "%time solver.solve(dz=1e-3,verbose=False,progressbar=True)"
   ]
  },
  {
   "cell_type": "markdown",
   "metadata": {},
   "source": [
    "# Now plot the result"
   ]
  },
  {
   "cell_type": "markdown",
   "metadata": {},
   "source": [
    "To compare the results to data one has to obtain the \n",
    "[*prince_analysis_tools*](https://github.com/joheinze/PriNCe-analysis-tools) package and\n",
    "add it to the `PYTHONPATH` as shown below."
   ]
  },
  {
   "cell_type": "code",
   "execution_count": 12,
   "metadata": {},
   "outputs": [],
   "source": [
    "# import sys\n",
    "# sys.path.append('../../PriNCe-analysis-tools/')"
   ]
  },
  {
   "cell_type": "code",
   "execution_count": 13,
   "metadata": {},
   "outputs": [],
   "source": [
    "from prince_analysis_tools.spectra import auger2015, auger2017\n",
    "\n",
    "data = auger2017\n",
    "data_label = \"Auger 2017\""
   ]
  },
  {
   "cell_type": "markdown",
   "metadata": {},
   "source": [
    "First normalize roughly to the spectrum"
   ]
  },
  {
   "cell_type": "code",
   "execution_count": 14,
   "metadata": {},
   "outputs": [
    {
     "name": "stdout",
     "output_type": "stream",
     "text": [
      "2.12e+04\n"
     ]
    }
   ],
   "source": [
    "result = solver.res\n",
    "\n",
    "edata = auger2015[\"energy\"]\n",
    "norm = auger2015[\"spectrum\"][17] / result.get_solution_group(\"CR\", egrid=edata)[1][17]\n",
    "print(f\"{norm:.2e}\")\n",
    "\n",
    "result = result * norm"
   ]
  },
  {
   "cell_type": "markdown",
   "metadata": {},
   "source": [
    "### Plot the spectrum"
   ]
  },
  {
   "cell_type": "code",
   "execution_count": 15,
   "metadata": {},
   "outputs": [
    {
     "data": {
      "image/png": "[encoded data removed]",
      "text/plain": [
       "<Figure size 640x480 with 1 Axes>"
      ]
     },
     "metadata": {},
     "output_type": "display_data"
    }
   ],
   "source": [
    "import matplotlib.pyplot as plt\n",
    "\n",
    "ncoid2sref = result.spec_man.ncoid2sref\n",
    "A = lambda x: ncoid2sref[x].A\n",
    "\n",
    "for group, color, label, loffset in zip(\n",
    "    [(A, 1, 1), (A, 2, 4), (A, 5, 14), (A, 15, 28), (A, 29, 56)],\n",
    "    [\"red\", \"gray\", \"green\", \"orange\", \"blue\"],\n",
    "    [\n",
    "        r\"$\\mathrm{A} = 1$\",\n",
    "        r\"$2 \\leq \\mathrm{A} \\leq 4$\",\n",
    "        r\"$5 \\leq \\mathrm{A} \\leq 14$\",\n",
    "        r\"$15 \\leq \\mathrm{A} \\leq 28$\",\n",
    "        r\"$29 \\leq \\mathrm{A} \\leq 56$\",\n",
    "    ],\n",
    "    [0, 0, 0, 0, 0],\n",
    "):\n",
    "\n",
    "    energy, spectrum = result.get_solution_group(group)\n",
    "    l = plt.loglog(energy, spectrum, label=label, c=color, alpha=0.6)\n",
    "    maxidx = spectrum.argmax()\n",
    "    loc = (energy[maxidx + loffset], spectrum[maxidx + loffset] / 1.5)\n",
    "\n",
    "    # only plot annotations, if they are roughly within plot range\n",
    "    # otherwise there are clipping errors\n",
    "    if 5e8 < loc[0] < 5e11 and 1e0 < loc[1] < 1e3:\n",
    "        plt.annotate(\n",
    "            label,\n",
    "            loc,\n",
    "            color=color,\n",
    "            weight=\"bold\",\n",
    "            fontsize=10,\n",
    "            horizontalalignment=\"center\",\n",
    "            verticalalignment=\"top\",\n",
    "        )\n",
    "\n",
    "energy, spectrum = result.get_solution_group(\"CR\")\n",
    "l = plt.loglog(energy, spectrum, c=\"saddlebrown\")\n",
    "\n",
    "plt.errorbar(\n",
    "    data[\"energy\"],\n",
    "    data[\"spectrum\"],\n",
    "    yerr=(data[\"lower_err\"], data[\"upper_err\"]),\n",
    "    fmt=\"o\",\n",
    "    color=\"black\",\n",
    "    label=data_label,\n",
    "    markersize=3,\n",
    ")\n",
    "plt.annotate(\n",
    "    data_label,\n",
    "    (data[\"energy\"][-4], data[\"spectrum\"][-4] * 1.5),\n",
    "    fontsize=12,\n",
    "    horizontalalignment=\"left\",\n",
    "    verticalalignment=\"bottom\",\n",
    ")\n",
    "plt.legend(ncol=1, loc='lower left', fontsize='small')\n",
    "\n",
    "plt.xlim(5e8, 5e11)\n",
    "plt.ylim(1e0, 1e3)\n",
    "\n",
    "plt.ylabel(r\"E$^3$ J [GeV$^{2}$ cm$^{-2}$ s$^{-1}$ sr$^{-1}$]\")\n",
    "plt.xlabel(r\"E [GeV]\")\n",
    "\n",
    "plt.show()"
   ]
  },
  {
   "cell_type": "code",
   "execution_count": null,
   "metadata": {},
   "outputs": [],
   "source": []
  },
  {
   "cell_type": "code",
   "execution_count": null,
   "metadata": {},
   "outputs": [],
   "source": []
  }
 ],
 "metadata": {
  "kernelspec": {
   "display_name": "py312sys",
   "language": "python",
   "name": "python3"
  },
  "language_info": {
   "codemirror_mode": {
    "name": "ipython",
    "version": 3
   },
   "file_extension": ".py",
   "mimetype": "text/x-python",
   "name": "python",
   "nbconvert_exporter": "python",
   "pygments_lexer": "ipython3",
   "version": "3.12.3"
  }
 },
 "nbformat": 4,
 "nbformat_minor": 4
}
