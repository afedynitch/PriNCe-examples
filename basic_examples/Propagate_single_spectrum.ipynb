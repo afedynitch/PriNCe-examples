{
 "cells": [
  {
   "cell_type": "code",
   "execution_count": 1,
   "metadata": {},
   "outputs": [],
   "source": [
    "import os\n",
    "import numpy as np\n",
    "import scipy as sc\n",
    "import matplotlib.pyplot as plt\n",
    "import matplotlib as mpl\n",
    "import pickle as pickle"
   ]
  },
  {
   "cell_type": "code",
   "execution_count": 2,
   "metadata": {},
   "outputs": [],
   "source": [
    "import prince_cr.config\n",
    "from prince_cr import core, util, photonfields, cross_sections\n",
    "from prince_cr import util as pru"
   ]
  },
  {
   "cell_type": "markdown",
   "metadata": {},
   "source": [
    "# **Important**: Run `Create_Kernel.ipynb` before trying this example"
   ]
  },
  {
   "cell_type": "markdown",
   "metadata": {},
   "source": [
    "# Reload the pickled kernel"
   ]
  },
  {
   "cell_type": "markdown",
   "metadata": {},
   "source": [
    "You need to reload the kenrel that was pickled in the example in   `examples/Create_Kernel.ipynb`\n",
    "\n",
    "Adjust the path to where you saved it to"
   ]
  },
  {
   "cell_type": "code",
   "execution_count": 3,
   "metadata": {},
   "outputs": [
    {
     "name": "stdout",
     "output_type": "stream",
     "text": [
      "Wall time: 1.7 s\n"
     ]
    }
   ],
   "source": [
    "%%time\n",
    "target_path = '../'\n",
    "with open(target_path + 'prince_run_talys_test.ppo','rb') as thefile:\n",
    "    prince_run = pickle.load(thefile)"
   ]
  },
  {
   "cell_type": "markdown",
   "metadata": {},
   "source": [
    "# Run a solver using the loaded kernel"
   ]
  },
  {
   "cell_type": "markdown",
   "metadata": {},
   "source": [
    "**Note:** We use a backward differentiation solver (BDF) here (`UHECRPropagationSolverBDF`)  \n",
    "There are other options in `prince/solvers`, however these are not robustly tested.  \n",
    "**So when in doubt use BDF**"
   ]
  },
  {
   "cell_type": "code",
   "execution_count": 4,
   "metadata": {},
   "outputs": [],
   "source": [
    "from prince_cr.solvers import UHECRPropagationSolverBDF\n",
    "from prince_cr.cr_sources import AugerFitSource,RigdityCutoffSource"
   ]
  },
  {
   "cell_type": "markdown",
   "metadata": {},
   "source": [
    "**Note:** The photonfield was set together with the solver in `examples/Create_Kernel.ipynb`\n",
    "\n",
    "However we can still replace it here:"
   ]
  },
  {
   "cell_type": "code",
   "execution_count": 5,
   "metadata": {},
   "outputs": [],
   "source": [
    "pf_gilmore = photonfields.CombinedPhotonField(\n",
    "    [photonfields.CMBPhotonSpectrum,photonfields.CIBGilmore2D])\n",
    "prince_run.int_rates.photon_field = pf_gilmore"
   ]
  },
  {
   "cell_type": "markdown",
   "metadata": {},
   "source": [
    "**Step 1:** Initiate solver class"
   ]
  },
  {
   "cell_type": "code",
   "execution_count": 6,
   "metadata": {},
   "outputs": [],
   "source": [
    "solver = UHECRPropagationSolverBDF(initial_z=1., final_z = 0.,prince_run=prince_run,\n",
    "                                   enable_pairprod_losses = True, enable_adiabatic_losses = True,\n",
    "                                   enable_injection_jacobian = True, enable_partial_diff_jacobian=True)"
   ]
  },
  {
   "cell_type": "markdown",
   "metadata": {},
   "source": [
    "**Step 2:** Create a source class and add it to the solver\n",
    "\n",
    "**Note:** There are more source classes defined in `prince/sources.py`"
   ]
  },
  {
   "cell_type": "code",
   "execution_count": 7,
   "metadata": {},
   "outputs": [],
   "source": [
    "rmax = 10**9.68\n",
    "gamma = 0.96\n",
    "total_norm = 1e-50\n",
    "\n",
    "f_hydrogen = 0.\n",
    "f_helium = 67.3\n",
    "f_nitrogen = 28.1\n",
    "f_silicon = 4.6\n",
    "f_iron = 0.\n",
    "\n",
    "# NOTE: You can add as much as you want here.\n",
    "# you can also add several source classes. But that will be slower, if there are many\n",
    "solver.add_source_class(\n",
    "    AugerFitSource(prince_run, norm = total_norm,\n",
    "                   params={101: (gamma, rmax, f_hydrogen),\n",
    "                           402: (gamma, rmax, f_helium),\n",
    "                           1407: (gamma, rmax, f_nitrogen),\n",
    "                           2814: (gamma, rmax, f_silicon),\n",
    "                           5626: (gamma, rmax, f_iron)}))"
   ]
  },
  {
   "cell_type": "markdown",
   "metadata": {},
   "source": [
    "**Note:** We add here only one source, but one could in principle add any number of sources here  \n",
    "(For a large number of different source classes, the solver will get slow)"
   ]
  },
  {
   "cell_type": "markdown",
   "metadata": {},
   "source": [
    "**Step 3:** Run the solver"
   ]
  },
  {
   "cell_type": "code",
   "execution_count": 8,
   "metadata": {},
   "outputs": [
    {
     "name": "stderr",
     "output_type": "stream",
     "text": [
      "1007it [00:22, 44.78it/s]                                                                                              "
     ]
    },
    {
     "name": "stdout",
     "output_type": "stream",
     "text": [
      "Wall time: 24.3 s\n"
     ]
    },
    {
     "name": "stderr",
     "output_type": "stream",
     "text": [
      "\n"
     ]
    }
   ],
   "source": [
    "%time solver.solve(dz=1e-3,verbose=False,progressbar=True)"
   ]
  },
  {
   "cell_type": "markdown",
   "metadata": {},
   "source": [
    "# Now plot the result"
   ]
  },
  {
   "cell_type": "markdown",
   "metadata": {},
   "source": [
    "To compare the results to data one has to obtain the \n",
    "[*prince_analysis_tools*](https://github.com/joheinze/PriNCe-analysis-tools) package and\n",
    "add it to the `PYTHONPATH` as shown below."
   ]
  },
  {
   "cell_type": "code",
   "execution_count": 10,
   "metadata": {},
   "outputs": [],
   "source": [
    "# Make sure the \n",
    "import sys\n",
    "sys.path.append('../../PriNCe-analysis-tools/')"
   ]
  },
  {
   "cell_type": "code",
   "execution_count": 11,
   "metadata": {},
   "outputs": [],
   "source": [
    "from prince_analysis_tools.spectra import auger2015, auger2017\n",
    "data = auger2017\n",
    "data_label = 'Auger 2017'"
   ]
  },
  {
   "cell_type": "markdown",
   "metadata": {},
   "source": [
    "First normalize roughly to the spectrum"
   ]
  },
  {
   "cell_type": "code",
   "execution_count": 12,
   "metadata": {},
   "outputs": [
    {
     "name": "stdout",
     "output_type": "stream",
     "text": [
      "3.24e+04\n"
     ]
    }
   ],
   "source": [
    "result = solver.res\n",
    "\n",
    "edata = auger2015['energy']\n",
    "norm = auger2015['spectrum'][17] / result.get_solution_group('CR',egrid=edata)[1][17]\n",
    "print(f'{norm:.2e}')\n",
    "\n",
    "result = result * norm"
   ]
  },
  {
   "cell_type": "markdown",
   "metadata": {},
   "source": [
    "### Plot the spectrum"
   ]
  },
  {
   "cell_type": "code",
   "execution_count": 13,
   "metadata": {},
   "outputs": [
    {
     "data": {
      "image/png": "[encoded data removed]",
      "text/plain": [
       "<Figure size 432x288 with 1 Axes>"
      ]
     },
     "metadata": {
      "needs_background": "light"
     },
     "output_type": "display_data"
    }
   ],
   "source": [
    "import matplotlib.pyplot as plt\n",
    "\n",
    "ncoid2sref = result.spec_man.ncoid2sref\n",
    "A = lambda x: ncoid2sref[x].A\n",
    "\n",
    "for group, color, label, loffset in zip([(A,1,1),(A,2,4),(A,5,14),(A,15,28),(A,29,56)],\n",
    "                             ['red','gray','green','orange','blue'],\n",
    "                             [r'$\\mathrm{A} = 1$',r'$2 \\leq \\mathrm{A} \\leq 4$',r'$5 \\leq \\mathrm{A} \\leq 14$',\n",
    "                              r'$15 \\leq \\mathrm{A} \\leq 28$','$29 \\leq \\mathrm{A} \\leq 56$'],\n",
    "                             [0, 0, 0 , 0, 0]):\n",
    "\n",
    "    energy, spectrum = result.get_solution_group(group)\n",
    "    l = plt.loglog(energy, spectrum, label=label, c=color, alpha = 0.6)\n",
    "    maxidx = spectrum.argmax()\n",
    "    loc = (energy[maxidx+loffset], spectrum[maxidx+loffset] / 1.5)\n",
    "    \n",
    "    # only plot annotations, if they are roughly within plot range\n",
    "    # otherwise there are clipping errors\n",
    "    if 5e8 < loc[0] < 5e11 and 1e0 < loc[1] < 1e3:\n",
    "        plt.annotate(label, loc, color=color, weight = 'bold', fontsize = 10,\n",
    "                    horizontalalignment='center', verticalalignment='top')\n",
    "\n",
    "energy, spectrum = result.get_solution_group('CR')\n",
    "l = plt.loglog(energy, spectrum, c='saddlebrown')\n",
    "\n",
    "plt.errorbar(data['energy'], data['spectrum'],\n",
    "             yerr=(data['lower_err'], data['upper_err']),\n",
    "             fmt='o', color='black', label = data_label,markersize=3)\n",
    "plt.annotate(data_label,(data['energy'][-4],data['spectrum'][-4]*1.5),fontsize=12,\n",
    "             horizontalalignment='left', verticalalignment='bottom')\n",
    "# plt.legend(ncol=1, loc='lower left', fontsize='small')\n",
    "\n",
    "plt.xlim(5e8,5e11)\n",
    "plt.ylim(1e0,1e3)\n",
    "\n",
    "plt.ylabel('E$^3$ J [GeV$^{2}$ cm$^{-2}$ s$^{-1}$ sr$^{-1}$]')\n",
    "plt.xlabel('E [GeV]')\n",
    "\n",
    "plt.show()"
   ]
  },
  {
   "cell_type": "markdown",
   "metadata": {},
   "source": [
    "### Plot the composition"
   ]
  },
  {
   "cell_type": "code",
   "execution_count": 14,
   "metadata": {},
   "outputs": [],
   "source": [
    "from prince_analysis_tools.xmax import XmaxSimple\n",
    "from prince_analysis_tools.spectra import Xmax2015,Xmax2017,XRMS2015,XRMS2017"
   ]
  },
  {
   "cell_type": "markdown",
   "metadata": {},
   "source": [
    "Helper functions for plotting"
   ]
  },
  {
   "cell_type": "code",
   "execution_count": 15,
   "metadata": {},
   "outputs": [],
   "source": [
    "# %load ../scripts/xmax_plot.py\n",
    "def make_error_boxes(xdata, ydata, xerror, yerror, facecolor='r',\n",
    "                     edgecolor='None', alpha=0.5):\n",
    "\n",
    "    ax = plt.gca()\n",
    "    from matplotlib.collections import PatchCollection\n",
    "    from matplotlib.patches import Rectangle\n",
    "\n",
    "    # Create list for all the error patches\n",
    "    errorboxes = []\n",
    "\n",
    "    # Loop over data points; create box from errors at each point\n",
    "    for x, y, xe, ye in zip(xdata, ydata, xerror.T, yerror.T):\n",
    "        rect = Rectangle((x - xe[0], y - ye[0]), xe.sum(), ye.sum())\n",
    "        errorboxes.append(rect)\n",
    "\n",
    "    # Create patch collection with specified colour/alpha\n",
    "    pc = PatchCollection(errorboxes, facecolor=facecolor, alpha=alpha,\n",
    "                         edgecolor=edgecolor)\n",
    "\n",
    "    # Add collection to axes\n",
    "    ax.add_collection(pc)\n",
    "\n",
    "def find_nearest(array, value):\n",
    "    array = np.asarray(array)\n",
    "    idx = (np.abs(array - value)).argmin()\n",
    "    return idx"
   ]
  },
  {
   "cell_type": "markdown",
   "metadata": {},
   "source": [
    "### Plot the mean $\\langle X_\\mathrm{max} \\rangle$"
   ]
  },
  {
   "cell_type": "code",
   "execution_count": 16,
   "metadata": {},
   "outputs": [
    {
     "name": "stderr",
     "output_type": "stream",
     "text": [
      "c:\\users\\afedy\\devel\\git\\prince\\prince_cr\\solvers\\propagation.py:142: RuntimeWarning: invalid value encountered in log\n",
      "  np.log(curr_spec),\n",
      "c:\\users\\afedy\\devel\\git\\prince\\prince_cr\\solvers\\propagation.py:150: RuntimeWarning: invalid value encountered in true_divide\n",
      "  lnA[:, np.newaxis] * spectra).sum(axis=0) / spectra.sum(axis=0)\n",
      "c:\\users\\afedy\\devel\\git\\prince\\prince_cr\\solvers\\propagation.py:152: RuntimeWarning: invalid value encountered in true_divide\n",
      "  spectra).sum(axis=0) / spectra.sum(axis=0) - average**2\n"
     ]
    },
    {
     "data": {
      "image/png": "[encoded data removed]",
      "text/plain": [
       "<Figure size 432x288 with 1 Axes>"
      ]
     },
     "metadata": {
      "needs_background": "light"
     },
     "output_type": "display_data"
    }
   ],
   "source": [
    "deltaE = 0.\n",
    "xshift=0.\n",
    "model=XmaxSimple(model=XmaxSimple.EPOSLHC)\n",
    "data=Xmax2017\n",
    "data_label=r'\\langle Xmax \\rangle Auger 2017'\n",
    "    \n",
    "egrid, average, variance = result.get_lnA([el for el in result.known_species if el >= 100])\n",
    "energy = egrid\n",
    "energy *= 1 + deltaE\n",
    "mean_lnA = average\n",
    "sigma_lnA = variance\n",
    "\n",
    "import matplotlib.pyplot as plt\n",
    "# plot the reference models\n",
    "for A, c, name in zip([1,4,14,56], ['red','gray','green','blue'],['H','He','N','Fe']):\n",
    "    Xmax = model.get_mean_Xmax(np.log(A), energy)\n",
    "    plt.semilogx(energy,Xmax, color = c)\n",
    "    idx = find_nearest(energy,1e11)\n",
    "    plt.annotate(name,(energy[idx+1],Xmax[idx]),color = c,annotation_clip=False)\n",
    "\n",
    "Xmax = model.get_mean_Xmax(mean_lnA, energy)\n",
    "plt.semilogx(energy, Xmax, color = 'saddlebrown', ls ='solid')\n",
    "\n",
    "xerr = np.array((data['energy_Low'], data['energy_Up']))\n",
    "yerr = np.array((data['sys_Low'], data['sys_Up']))\n",
    "make_error_boxes(data['energy'], data['val'], xerr, yerr, facecolor='gray')\n",
    "\n",
    "if xshift > 0:\n",
    "    xcorr = xshift * data['sys_Up']\n",
    "else:\n",
    "    xcorr = xshift * data['sys_Low']\n",
    "\n",
    "plt.errorbar(data['energy'], data['val'] + xcorr,\n",
    "             xerr=(data['energy_Low'], data['energy_Up']),\n",
    "             yerr=(data['stat'], data['stat']),\n",
    "             fmt='o',markersize=2.5, label=data_label, c='black')\n",
    "\n",
    "plt.xlim(1e9,1e11)\n",
    "plt.ylim(600,900)\n",
    "plt.xlabel('E  [GeV]')\n",
    "plt.ylabel(r'$\\langle X_{max} \\rangle$ [g cm$^{-2}$]')\n",
    "\n",
    "plt.show()"
   ]
  },
  {
   "cell_type": "markdown",
   "metadata": {},
   "source": [
    "### Plot the variance $\\sigma(X_\\mathrm{max})$"
   ]
  },
  {
   "cell_type": "code",
   "execution_count": 17,
   "metadata": {},
   "outputs": [
    {
     "name": "stderr",
     "output_type": "stream",
     "text": [
      "c:\\users\\afedy\\devel\\git\\prince\\prince_cr\\solvers\\propagation.py:142: RuntimeWarning: invalid value encountered in log\n",
      "  np.log(curr_spec),\n",
      "c:\\users\\afedy\\devel\\git\\prince\\prince_cr\\solvers\\propagation.py:150: RuntimeWarning: invalid value encountered in true_divide\n",
      "  lnA[:, np.newaxis] * spectra).sum(axis=0) / spectra.sum(axis=0)\n",
      "c:\\users\\afedy\\devel\\git\\prince\\prince_cr\\solvers\\propagation.py:152: RuntimeWarning: invalid value encountered in true_divide\n",
      "  spectra).sum(axis=0) / spectra.sum(axis=0) - average**2\n"
     ]
    },
    {
     "data": {
      "image/png": "[encoded data removed]",
      "text/plain": [
       "<Figure size 432x288 with 1 Axes>"
      ]
     },
     "metadata": {
      "needs_background": "light"
     },
     "output_type": "display_data"
    }
   ],
   "source": [
    "deltaE = 0.\n",
    "xshift=0.\n",
    "model=XmaxSimple(model=XmaxSimple.EPOSLHC)\n",
    "data=XRMS2017\n",
    "data_label=r'\\langle Xmax \\rangle Auger 2017'\n",
    "    \n",
    "egrid, average, variance = result.get_lnA([el for el in result.known_species if el >= 100])\n",
    "energy = egrid\n",
    "energy *= 1 + deltaE\n",
    "mean_lnA = average\n",
    "var_lnA = variance\n",
    "\n",
    "import matplotlib.pyplot as plt\n",
    "for A, c, name in zip([1,4,14,56], ['red','gray','green','blue'],['H','He','N','Fe']):\n",
    "    sigmaXmax, sigmaXmax_part = np.sqrt(model.get_var_Xmax(np.log(A), 0., energy))\n",
    "    plt.semilogx(energy,sigmaXmax, color = c)\n",
    "    idx = find_nearest(energy,1e11)\n",
    "    plt.annotate(name,(energy[idx+1],sigmaXmax[idx]),color = c,annotation_clip=False)\n",
    "\n",
    "sigmaXmax, sigmaXmax_part = np.sqrt(model.get_var_Xmax(mean_lnA, var_lnA, energy))\n",
    "plt.semilogx(energy,sigmaXmax, color = 'saddlebrown', ls ='solid')\n",
    "#     plt.semilogx(energy,sigmaXmax_part, color = 'saddlebrown', ls ='dashed')\n",
    "\n",
    "xerr = np.array((data['energy_Low'], data['energy_Up']))\n",
    "yerr = np.array((data['sys_Low'], data['sys_Up']))\n",
    "make_error_boxes(data['energy'], data['val'], xerr, yerr, facecolor='gray')\n",
    "\n",
    "if xshift > 0:\n",
    "    xcorr = xshift * data['sys_Up']\n",
    "else:\n",
    "    xcorr = xshift * data['sys_Low']\n",
    "\n",
    "plt.errorbar(data['energy'], data['val'] + xcorr,\n",
    "             xerr=(data['energy_Low'], data['energy_Up']),\n",
    "             yerr=(data['stat'], data['stat']),\n",
    "             fmt='o',markersize=2.5, label='Xmax Auger 2015', c='black')\n",
    "\n",
    "plt.xlim(1e9,1e11)\n",
    "plt.ylim(0,70)\n",
    "plt.xlabel('E  [GeV]')\n",
    "plt.ylabel(r'$\\sigma( X_{max})$ [g cm$^{-2}$]')\n",
    "\n",
    "plt.show()"
   ]
  },
  {
   "cell_type": "markdown",
   "metadata": {},
   "source": [
    "### Cosmogenic Neutrinos"
   ]
  },
  {
   "cell_type": "code",
   "execution_count": 18,
   "metadata": {},
   "outputs": [
    {
     "data": {
      "image/png": "[encoded data removed]",
      "text/plain": [
       "<Figure size 432x360 with 1 Axes>"
      ]
     },
     "metadata": {
      "needs_background": "light"
     },
     "output_type": "display_data"
    }
   ],
   "source": [
    "plt.figure(figsize=(6,5))\n",
    "\n",
    "alpha = 0.3\n",
    "handles=[]\n",
    "\n",
    "egrid, spec = result.get_solution_group('nu',epow=2)\n",
    "plt.loglog(egrid,spec,c='black',label='best fit')\n",
    "\n",
    "from prince_analysis_tools.spectra import IClimit2017, IClimit2017GRB, IClimit9year\n",
    "from prince_analysis_tools.spectra import IClimit9year_new as IClimit9year\n",
    "\n",
    "plt.fill_between(IClimit9year['energy'], IClimit9year['limit'], np.ones_like(IClimit9year['energy']),\n",
    "                 color='black',alpha= 0.3)\n",
    "plt.annotate('IceCube limit 9y',(4e7,4e-8), fontsize = 'large')\n",
    "\n",
    "plt.ylim(1e-11,1e-7)\n",
    "plt.xlim(1e5,IClimit9year['energy'][-1].value)\n",
    "\n",
    "plt.ylabel('E$^2$ J [GeV cm$^{-2}$ s$^{-1}$ sr$^{-1}$]',fontsize=14)\n",
    "plt.xlabel('E [GeV]',fontsize=14)\n",
    "\n",
    "plt.tight_layout()\n",
    "\n",
    "plt.show()"
   ]
  },
  {
   "cell_type": "code",
   "execution_count": null,
   "metadata": {},
   "outputs": [],
   "source": []
  }
 ],
 "metadata": {
  "kernelspec": {
   "display_name": "Python 3",
   "language": "python",
   "name": "python3"
  },
  "language_info": {
   "codemirror_mode": {
    "name": "ipython",
    "version": 3
   },
   "file_extension": ".py",
   "mimetype": "text/x-python",
   "name": "python",
   "nbconvert_exporter": "python",
   "pygments_lexer": "ipython3",
   "version": "3.7.7"
  }
 },
 "nbformat": 4,
 "nbformat_minor": 4
}
