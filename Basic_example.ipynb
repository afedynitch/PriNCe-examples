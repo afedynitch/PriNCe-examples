{
 "cells": [
  {
   "cell_type": "code",
   "execution_count": 1,
   "metadata": {},
   "outputs": [],
   "source": [
    "import os\n",
    "import numpy as np\n",
    "import scipy as sc\n",
    "import matplotlib.pyplot as plt\n",
    "import matplotlib as mpl\n",
    "import pickle as pickle"
   ]
  },
  {
   "cell_type": "code",
   "execution_count": 2,
   "metadata": {},
   "outputs": [
    {
     "name": "stdout",
     "output_type": "stream",
     "text": [
      "CUPY not found for GPU support. Degrading to MKL.\n"
     ]
    }
   ],
   "source": [
    "import prince.config\n",
    "from prince import core, util, photonfields, cross_sections\n",
    "from prince import util as pru"
   ]
  },
  {
   "cell_type": "markdown",
   "metadata": {},
   "source": [
    "# Setup PrinceRun object"
   ]
  },
  {
   "cell_type": "markdown",
   "metadata": {},
   "source": [
    "Before you create the kernel, you can change options in the config.  \n",
    "See `prince/config.py` for a full list of options"
   ]
  },
  {
   "cell_type": "code",
   "execution_count": 3,
   "metadata": {},
   "outputs": [],
   "source": [
    "prince.config.x_cut = 1e-4\n",
    "prince.config.x_cut_proton = 1e-2\n",
    "prince.config.tau_dec_threshold = np.inf"
   ]
  },
  {
   "cell_type": "markdown",
   "metadata": {},
   "source": [
    "### Now create the objects:\n",
    "- Photonfield class\n",
    "- Cross section class\n",
    "- PriNCe core class, that will contain the cross section kernel\n",
    "\n",
    "(The latter two take some time)\n",
    "\n",
    "Note that TabulatedCrossSection will look for data in the database stored in `./prince/data/prince_db_05`"
   ]
  },
  {
   "cell_type": "markdown",
   "metadata": {},
   "source": [
    "#### Photon field class\n",
    "\n",
    "This is a combined photon field of CMB and Gilmore et al. EBL  \n",
    "See classes in `prince/photonfields.py` for different options"
   ]
  },
  {
   "cell_type": "code",
   "execution_count": 4,
   "metadata": {},
   "outputs": [
    {
     "name": "stdout",
     "output_type": "stream",
     "text": [
      "CPU times: user 0 ns, sys: 0 ns, total: 0 ns\n",
      "Wall time: 5.08 ms\n"
     ]
    }
   ],
   "source": [
    "%%time\n",
    "pf = photonfields.CombinedPhotonField(\n",
    "                [photonfields.CMBPhotonSpectrum, \n",
    "                 photonfields.CIBGilmore2D])"
   ]
  },
  {
   "cell_type": "markdown",
   "metadata": {},
   "source": [
    "#### Cross section class"
   ]
  },
  {
   "cell_type": "markdown",
   "metadata": {},
   "source": [
    "This is a combined cross section of `Talys` as low energy the `Sophia` superposition model at high energies\n",
    "See classes in `prince/cross_sections.py` for different options"
   ]
  },
  {
   "cell_type": "code",
   "execution_count": 5,
   "metadata": {},
   "outputs": [
    {
     "name": "stdout",
     "output_type": "stream",
     "text": [
      "CompositeCrossSection::_join_models(): Attempt to join 2 models.\n"
     ]
    }
   ],
   "source": [
    "cs = cross_sections.CompositeCrossSection([(0., cross_sections.TabulatedCrossSection, ('PSB',)),\n",
    "                                           (0.14, cross_sections.SophiaSuperposition, ())])"
   ]
  },
  {
   "cell_type": "markdown",
   "metadata": {},
   "source": [
    "#### Prince_run kernel"
   ]
  },
  {
   "cell_type": "code",
   "execution_count": 6,
   "metadata": {},
   "outputs": [
    {
     "name": "stdout",
     "output_type": "stream",
     "text": [
      "PriNCeRun::__init__(): initialising Energy grid\n",
      "PhotoNuclearInteractionRate::_init_matrices(): Inclusive interpolator not found for (5626, 5626)\n",
      "PhotoNuclearInteractionRate::_init_matrices(): Inclusive interpolator not found for (5525, 5525)\n",
      "PhotoNuclearInteractionRate::_init_matrices(): Inclusive interpolator not found for (5424, 5424)\n",
      "PhotoNuclearInteractionRate::_init_matrices(): Inclusive interpolator not found for (5324, 5324)\n",
      "PhotoNuclearInteractionRate::_init_matrices(): Inclusive interpolator not found for (5224, 5224)\n",
      "PhotoNuclearInteractionRate::_init_matrices(): Inclusive interpolator not found for (5123, 5123)\n",
      "PhotoNuclearInteractionRate::_init_matrices(): Inclusive interpolator not found for (5023, 5023)\n",
      "PhotoNuclearInteractionRate::_init_matrices(): Inclusive interpolator not found for (4922, 4922)\n",
      "PhotoNuclearInteractionRate::_init_matrices(): Inclusive interpolator not found for (4822, 4822)\n",
      "PhotoNuclearInteractionRate::_init_matrices(): Inclusive interpolator not found for (4722, 4722)\n",
      "PhotoNuclearInteractionRate::_init_matrices(): Inclusive interpolator not found for (4622, 4622)\n",
      "PhotoNuclearInteractionRate::_init_matrices(): Inclusive interpolator not found for (4521, 4521)\n",
      "PhotoNuclearInteractionRate::_init_matrices(): Inclusive interpolator not found for (4420, 4420)\n",
      "PhotoNuclearInteractionRate::_init_matrices(): Inclusive interpolator not found for (4320, 4320)\n",
      "PhotoNuclearInteractionRate::_init_matrices(): Inclusive interpolator not found for (4220, 4220)\n",
      "PhotoNuclearInteractionRate::_init_matrices(): Inclusive interpolator not found for (4119, 4119)\n",
      "PhotoNuclearInteractionRate::_init_matrices(): Inclusive interpolator not found for (4019, 4019)\n",
      "PhotoNuclearInteractionRate::_init_matrices(): Inclusive interpolator not found for (3919, 3919)\n",
      "PhotoNuclearInteractionRate::_init_matrices(): Inclusive interpolator not found for (3818, 3818)\n",
      "PhotoNuclearInteractionRate::_init_matrices(): Inclusive interpolator not found for (3718, 3718)\n",
      "PhotoNuclearInteractionRate::_init_matrices(): Inclusive interpolator not found for (3618, 3618)\n",
      "PhotoNuclearInteractionRate::_init_matrices(): Inclusive interpolator not found for (3517, 3517)\n",
      "PhotoNuclearInteractionRate::_init_matrices(): Inclusive interpolator not found for (3416, 3416)\n",
      "PhotoNuclearInteractionRate::_init_matrices(): Inclusive interpolator not found for (3316, 3316)\n",
      "PhotoNuclearInteractionRate::_init_matrices(): Inclusive interpolator not found for (3216, 3216)\n",
      "PhotoNuclearInteractionRate::_init_matrices(): Inclusive interpolator not found for (3115, 3115)\n",
      "PhotoNuclearInteractionRate::_init_matrices(): Inclusive interpolator not found for (3014, 3014)\n",
      "PhotoNuclearInteractionRate::_init_matrices(): Inclusive interpolator not found for (2914, 2914)\n",
      "PhotoNuclearInteractionRate::_init_matrices(): Inclusive interpolator not found for (2814, 2814)\n",
      "PhotoNuclearInteractionRate::_init_matrices(): Inclusive interpolator not found for (2713, 2713)\n",
      "PhotoNuclearInteractionRate::_init_matrices(): Inclusive interpolator not found for (2612, 2612)\n",
      "PhotoNuclearInteractionRate::_init_matrices(): Inclusive interpolator not found for (2512, 2512)\n",
      "PhotoNuclearInteractionRate::_init_matrices(): Inclusive interpolator not found for (2412, 2412)\n",
      "PhotoNuclearInteractionRate::_init_matrices(): Inclusive interpolator not found for (2311, 2311)\n",
      "PhotoNuclearInteractionRate::_init_matrices(): Inclusive interpolator not found for (2210, 2210)\n",
      "PhotoNuclearInteractionRate::_init_matrices(): Inclusive interpolator not found for (2110, 2110)\n",
      "PhotoNuclearInteractionRate::_init_matrices(): Inclusive interpolator not found for (2010, 2010)\n",
      "PhotoNuclearInteractionRate::_init_matrices(): Inclusive interpolator not found for (1909, 1909)\n",
      "PhotoNuclearInteractionRate::_init_matrices(): Inclusive interpolator not found for (1808, 1808)\n",
      "PhotoNuclearInteractionRate::_init_matrices(): Inclusive interpolator not found for (1708, 1708)\n",
      "PhotoNuclearInteractionRate::_init_matrices(): Inclusive interpolator not found for (1608, 1608)\n",
      "PhotoNuclearInteractionRate::_init_matrices(): Inclusive interpolator not found for (1507, 1507)\n",
      "PhotoNuclearInteractionRate::_init_matrices(): Inclusive interpolator not found for (1407, 1407)\n",
      "PhotoNuclearInteractionRate::_init_matrices(): Inclusive interpolator not found for (1306, 1306)\n",
      "PhotoNuclearInteractionRate::_init_matrices(): Inclusive interpolator not found for (1206, 1206)\n",
      "PhotoNuclearInteractionRate::_init_matrices(): Inclusive interpolator not found for (1105, 1105)\n",
      "PhotoNuclearInteractionRate::_init_matrices(): Inclusive interpolator not found for (1005, 1005)\n",
      "PhotoNuclearInteractionRate::_init_matrices(): Inclusive interpolator not found for (904, 904)\n",
      "PhotoNuclearInteractionRate::_init_matrices(): Inclusive interpolator not found for (402, 402)\n",
      "PhotoNuclearInteractionRate::_init_matrices(): Inclusive interpolator not found for (302, 302)\n",
      "PhotoNuclearInteractionRate::_init_matrices(): Inclusive interpolator not found for (201, 201)\n",
      "PhotoNuclearInteractionRate::_init_coupling_mat(): Initiating coupling matrix in (CSR) format\n",
      "CPU times: user 48.7 s, sys: 2.08 s, total: 50.8 s\n",
      "Wall time: 50.9 s\n"
     ]
    }
   ],
   "source": [
    "%%time\n",
    "prince_run_talys = core.PriNCeRun(max_mass = 56, photon_field=pf, cross_sections=cs)"
   ]
  },
  {
   "cell_type": "markdown",
   "metadata": {},
   "source": [
    "# Run a solver using the loaded kernel"
   ]
  },
  {
   "cell_type": "markdown",
   "metadata": {},
   "source": [
    "**Note:** We use a backward differentiation solver (BDF) here (`UHECRPropagationSolverBDF`)  \n",
    "There are other options in `prince/solvers`, however these are not robustly tested.  \n",
    "**So when in doubt use BDF**"
   ]
  },
  {
   "cell_type": "code",
   "execution_count": 7,
   "metadata": {},
   "outputs": [],
   "source": [
    "from prince.solvers import UHECRPropagationSolverBDF\n",
    "from prince.cr_sources import AugerFitSource,RigdityCutoffSource"
   ]
  },
  {
   "cell_type": "markdown",
   "metadata": {},
   "source": [
    "**Step 1:** Initiate solver class"
   ]
  },
  {
   "cell_type": "code",
   "execution_count": 8,
   "metadata": {},
   "outputs": [],
   "source": [
    "solver = UHECRPropagationSolverBDF(initial_z=1., final_z = 0.,prince_run=prince_run_talys,\n",
    "                                   enable_pairprod_losses = True, enable_adiabatic_losses = True,\n",
    "                                   enable_injection_jacobian = True, enable_partial_diff_jacobian=True)"
   ]
  },
  {
   "cell_type": "markdown",
   "metadata": {},
   "source": [
    "**Step 2:** Create a source class and add it to the solver\n",
    "\n",
    "**Note:** There are more source classes defined in `prince/sources.py`"
   ]
  },
  {
   "cell_type": "code",
   "execution_count": 9,
   "metadata": {},
   "outputs": [],
   "source": [
    "rmax = 10**9.68\n",
    "gamma = 0.96\n",
    "total_norm = 1e-50\n",
    "\n",
    "f_hydrogen = 0.\n",
    "f_helium = 67.3\n",
    "f_nitrogen = 28.1\n",
    "f_silicon = 4.6\n",
    "f_iron = 0.\n",
    "\n",
    "# NOTE: You can add as much as you want here.\n",
    "# you can also add several source classes. But that will be slower, if there are many\n",
    "solver.add_source_class(\n",
    "    AugerFitSource(prince_run_talys, norm = total_norm,\n",
    "                   params={101: (gamma, rmax, f_hydrogen),\n",
    "                           402: (gamma, rmax, f_helium),\n",
    "                           1407: (gamma, rmax, f_nitrogen),\n",
    "                           2814: (gamma, rmax, f_silicon),\n",
    "                           5626: (gamma, rmax, f_iron)}))"
   ]
  },
  {
   "cell_type": "markdown",
   "metadata": {},
   "source": [
    "**Note:** We add here only one source, but one could in principle add any number of sources here  \n",
    "(For a large number of different source classes, the solver will get slow)"
   ]
  },
  {
   "cell_type": "markdown",
   "metadata": {},
   "source": [
    "**Step 3:** Run the solver"
   ]
  },
  {
   "cell_type": "code",
   "execution_count": 10,
   "metadata": {},
   "outputs": [
    {
     "name": "stderr",
     "output_type": "stream",
     "text": [
      "1007it [00:15, 65.31it/s]                           "
     ]
    },
    {
     "name": "stdout",
     "output_type": "stream",
     "text": [
      "CPU times: user 32.1 s, sys: 1.05 s, total: 33.2 s\n",
      "Wall time: 17 s\n"
     ]
    },
    {
     "name": "stderr",
     "output_type": "stream",
     "text": [
      "\n"
     ]
    }
   ],
   "source": [
    "%time solver.solve(dz=1e-3,verbose=False,progressbar=True)"
   ]
  },
  {
   "cell_type": "markdown",
   "metadata": {},
   "source": [
    "# Now plot the result"
   ]
  },
  {
   "cell_type": "code",
   "execution_count": 11,
   "metadata": {},
   "outputs": [],
   "source": [
    "from prince_analysis_tools.spectra import auger2015, auger2017\n",
    "data = auger2017\n",
    "data_label = 'Auger 2017'"
   ]
  },
  {
   "cell_type": "markdown",
   "metadata": {},
   "source": [
    "First normalize roughly to the spectrum"
   ]
  },
  {
   "cell_type": "code",
   "execution_count": 12,
   "metadata": {},
   "outputs": [
    {
     "name": "stderr",
     "output_type": "stream",
     "text": [
      "/home/jheinze/python_packages/PriNCe/prince/solvers/propagation.py:120: RuntimeWarning: invalid value encountered in log\n",
      "  np.log(curr_spec),\n"
     ]
    },
    {
     "name": "stdout",
     "output_type": "stream",
     "text": [
      "2.12e+04\n"
     ]
    }
   ],
   "source": [
    "result = solver.res\n",
    "\n",
    "edata = auger2015['energy']\n",
    "norm = auger2015['spectrum'][17] / result.get_solution_group('CR',egrid=edata)[1][17]\n",
    "print(f'{norm:.2e}')\n",
    "\n",
    "result = result * norm"
   ]
  },
  {
   "cell_type": "markdown",
   "metadata": {},
   "source": [
    "### Plot the spectrum"
   ]
  },
  {
   "cell_type": "code",
   "execution_count": 13,
   "metadata": {},
   "outputs": [
    {
     "name": "stderr",
     "output_type": "stream",
     "text": [
      "/home/jheinze/python_packages/PriNCe/prince/solvers/propagation.py:120: RuntimeWarning: divide by zero encountered in log\n",
      "  np.log(curr_spec),\n",
      "/home/jheinze/python_packages/PriNCe/prince/solvers/propagation.py:120: RuntimeWarning: invalid value encountered in log\n",
      "  np.log(curr_spec),\n",
      "/home/jheinze/python_packages/PriNCe/prince/solvers/propagation.py:120: RuntimeWarning: invalid value encountered in log\n",
      "  np.log(curr_spec),\n",
      "/home/jheinze/python_packages/PriNCe/prince/solvers/propagation.py:120: RuntimeWarning: invalid value encountered in log\n",
      "  np.log(curr_spec),\n",
      "/home/jheinze/python_packages/PriNCe/prince/solvers/propagation.py:120: RuntimeWarning: invalid value encountered in log\n",
      "  np.log(curr_spec),\n",
      "/home/jheinze/python_packages/PriNCe/prince/solvers/propagation.py:120: RuntimeWarning: invalid value encountered in log\n",
      "  np.log(curr_spec),\n"
     ]
    },
    {
     "data": {
      "image/png": "[encoded data removed]",
      "text/plain": [
       "<Figure size 432x288 with 1 Axes>"
      ]
     },
     "metadata": {
      "needs_background": "light"
     },
     "output_type": "display_data"
    }
   ],
   "source": [
    "import matplotlib.pyplot as plt\n",
    "\n",
    "ncoid2sref = result.spec_man.ncoid2sref\n",
    "A = lambda x: ncoid2sref[x].A\n",
    "\n",
    "for group, color, label, loffset in zip([(A,1,1),(A,2,4),(A,5,14),(A,15,28),(A,29,56)],\n",
    "                             ['red','gray','green','orange','blue'],\n",
    "                             [r'$\\mathrm{A} = 1$',r'$2 \\leq \\mathrm{A} \\leq 4$',r'$5 \\leq \\mathrm{A} \\leq 14$',\n",
    "                              r'$15 \\leq \\mathrm{A} \\leq 28$','$29 \\leq \\mathrm{A} \\leq 56$'],\n",
    "                             [0, 0, 0 , 0, 0]):\n",
    "\n",
    "    energy, spectrum = result.get_solution_group(group)\n",
    "    l = plt.loglog(energy, spectrum, label=label, c=color, alpha = 0.6)\n",
    "    maxidx = spectrum.argmax()\n",
    "    loc = (energy[maxidx+loffset], spectrum[maxidx+loffset] / 1.5)\n",
    "    \n",
    "    # only plot annotations, if they are roughly within plot range\n",
    "    # otherwise there are clipping errors\n",
    "    if 5e8 < loc[0] < 5e11 and 1e0 < loc[1] < 1e3:\n",
    "        plt.annotate(label, loc, color=color, weight = 'bold', fontsize = 10,\n",
    "                    horizontalalignment='center', verticalalignment='top')\n",
    "\n",
    "energy, spectrum = result.get_solution_group('CR')\n",
    "l = plt.loglog(energy, spectrum, c='saddlebrown')\n",
    "\n",
    "plt.errorbar(data['energy'], data['spectrum'],\n",
    "             yerr=(data['lower_err'], data['upper_err']),\n",
    "             fmt='o', color='black', label = data_label,markersize=3)\n",
    "plt.annotate(data_label,(data['energy'][-4],data['spectrum'][-4]*1.5),fontsize=12,\n",
    "             horizontalalignment='left', verticalalignment='bottom')\n",
    "# plt.legend(ncol=1, loc='lower left', fontsize='small')\n",
    "\n",
    "plt.xlim(5e8,5e11)\n",
    "plt.ylim(1e0,1e3)\n",
    "\n",
    "plt.ylabel('E$^3$ J [GeV$^{2}$ cm$^{-2}$ s$^{-1}$ sr$^{-1}$]')\n",
    "plt.xlabel('E [GeV]')\n",
    "\n",
    "plt.show()"
   ]
  },
  {
   "cell_type": "code",
   "execution_count": null,
   "metadata": {},
   "outputs": [],
   "source": []
  },
  {
   "cell_type": "code",
   "execution_count": null,
   "metadata": {},
   "outputs": [],
   "source": []
  }
 ],
 "metadata": {
  "kernelspec": {
   "display_name": "Python 3",
   "language": "python",
   "name": "python3"
  },
  "language_info": {
   "codemirror_mode": {
    "name": "ipython",
    "version": 3
   },
   "file_extension": ".py",
   "mimetype": "text/x-python",
   "name": "python",
   "nbconvert_exporter": "python",
   "pygments_lexer": "ipython3",
   "version": "3.7.7"
  }
 },
 "nbformat": 4,
 "nbformat_minor": 4
}
